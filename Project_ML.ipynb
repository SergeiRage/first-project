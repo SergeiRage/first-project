{
 "cells": [
  {
   "cell_type": "markdown",
   "metadata": {
    "toc": true
   },
   "source": [
    "<h1>Содержание<span class=\"tocSkip\"></span></h1>\n",
    "<div class=\"toc\"><ul class=\"toc-item\"><li><span><a href=\"#Подготовка-данных\" data-toc-modified-id=\"Подготовка-данных-1\"><span class=\"toc-item-num\">1&nbsp;&nbsp;</span>Подготовка данных</a></span></li><li><span><a href=\"#Исследование-задачи\" data-toc-modified-id=\"Исследование-задачи-2\"><span class=\"toc-item-num\">2&nbsp;&nbsp;</span>Исследование задачи</a></span><ul class=\"toc-item\"><li><span><a href=\"#Преобразуем-категориальные-значения-в-численные-с-помощью-техники-прямого-кодирования-(One-Hot-Encoding,-OHE)\" data-toc-modified-id=\"Преобразуем-категориальные-значения-в-численные-с-помощью-техники-прямого-кодирования-(One-Hot-Encoding,-OHE)-2.1\"><span class=\"toc-item-num\">2.1&nbsp;&nbsp;</span>Преобразуем категориальные значения в численные с помощью техники прямого кодирования (One-Hot Encoding, OHE)</a></span></li><li><span><a href=\"#Формирование-выборок:-обучающая,-валидационная,-тестовая\" data-toc-modified-id=\"Формирование-выборок:-обучающая,-валидационная,-тестовая-2.2\"><span class=\"toc-item-num\">2.2&nbsp;&nbsp;</span>Формирование выборок: обучающая, валидационная, тестовая</a></span></li><li><span><a href=\"#Масштабирование-признаков\" data-toc-modified-id=\"Масштабирование-признаков-2.3\"><span class=\"toc-item-num\">2.3&nbsp;&nbsp;</span>Масштабирование признаков</a></span></li></ul></li><li><span><a href=\"#Борьба-с-дисбалансом\" data-toc-modified-id=\"Борьба-с-дисбалансом-3\"><span class=\"toc-item-num\">3&nbsp;&nbsp;</span>Борьба с дисбалансом</a></span><ul class=\"toc-item\"><li><span><a href=\"#Модель-решающего-дерева\" data-toc-modified-id=\"Модель-решающего-дерева-3.1\"><span class=\"toc-item-num\">3.1&nbsp;&nbsp;</span>Модель решающего дерева</a></span></li><li><span><a href=\"#Модель-случайного-леса\" data-toc-modified-id=\"Модель-случайного-леса-3.2\"><span class=\"toc-item-num\">3.2&nbsp;&nbsp;</span>Модель случайного леса</a></span></li><li><span><a href=\"#Модель-логистической-регрессии\" data-toc-modified-id=\"Модель-логистической-регрессии-3.3\"><span class=\"toc-item-num\">3.3&nbsp;&nbsp;</span>Модель логистической регрессии</a></span></li></ul></li><li><span><a href=\"#Решение-проблемы-дисбаланса-классов\" data-toc-modified-id=\"Решение-проблемы-дисбаланса-классов-4\"><span class=\"toc-item-num\">4&nbsp;&nbsp;</span>Решение проблемы дисбаланса классов</a></span><ul class=\"toc-item\"><li><span><a href=\"#Увеличение-класса-выборки\" data-toc-modified-id=\"Увеличение-класса-выборки-4.1\"><span class=\"toc-item-num\">4.1&nbsp;&nbsp;</span>Увеличение класса выборки</a></span></li><li><span><a href=\"#Уменьшение-класса-выборки\" data-toc-modified-id=\"Уменьшение-класса-выборки-4.2\"><span class=\"toc-item-num\">4.2&nbsp;&nbsp;</span>Уменьшение класса выборки</a></span></li></ul></li><li><span><a href=\"#Тестирование-модели\" data-toc-modified-id=\"Тестирование-модели-5\"><span class=\"toc-item-num\">5&nbsp;&nbsp;</span>Тестирование модели</a></span></li><li><span><a href=\"#Выводы-по-работе\" data-toc-modified-id=\"Выводы-по-работе-6\"><span class=\"toc-item-num\">6&nbsp;&nbsp;</span>Выводы по работе</a></span></li><li><span><a href=\"#Чек-лист-готовности-проекта\" data-toc-modified-id=\"Чек-лист-готовности-проекта-7\"><span class=\"toc-item-num\">7&nbsp;&nbsp;</span>Чек-лист готовности проекта</a></span></li></ul></div>"
   ]
  },
  {
   "cell_type": "markdown",
   "metadata": {},
   "source": [
    "# Отток клиентов"
   ]
  },
  {
   "cell_type": "markdown",
   "metadata": {},
   "source": [
    "Из «Бета-Банка» стали уходить клиенты. Каждый месяц. Немного, но заметно. Банковские маркетологи посчитали: сохранять текущих клиентов дешевле, чем привлекать новых.\n",
    "\n",
    "Нужно спрогнозировать, уйдёт клиент из банка в ближайшее время или нет. Вам предоставлены исторические данные о поведении клиентов и расторжении договоров с банком. \n",
    "\n",
    "Постройте модель с предельно большим значением *F1*-меры. Чтобы сдать проект успешно, нужно довести метрику до 0.59. Проверьте *F1*-меру на тестовой выборке самостоятельно.\n",
    "\n",
    "Дополнительно измеряйте *AUC-ROC*, сравнивайте её значение с *F1*-мерой.\n",
    "\n",
    "Источник данных: [https://www.kaggle.com/barelydedicated/bank-customer-churn-modeling](https://www.kaggle.com/barelydedicated/bank-customer-churn-modeling)"
   ]
  },
  {
   "cell_type": "markdown",
   "metadata": {},
   "source": [
    " **Исследование оттока клиентов** \n",
    " \n",
    "В нашем распоряжении данные банка. Имеются данные о данные о клиентах банка, которые содержат такие показатели, как возраст, количество средств, активность, зарплата, а также фиксируется факт ухода клиента из банка. В настоящее время возникла проблема оттока клиентов из банка. Банковские маркетологи посчитали: сохранять текущих клиентов дешевле, чем привлекать новых. Поэтому специалистам банка необходимо понимать есть ли вероятность ухода клиента или нет.\n",
    "\n",
    "\n",
    " **Цель исследования**\n",
    " \n",
    "Цель проекта заключается в построении модели, позволяющей спрогнозировать, уйдёт клиент из банка в ближайшее время или нет. Для выполнения цели необходимо решить следующие задачи:\n",
    "1. Проанализировать основную информацию о клиентах банка.\n",
    "2. Подготовить данные для построения моделей.\n",
    "3. Обучить модели и по показателям определить наилучшую.\n",
    "4. Провести тестирование модели на выборке.\n",
    "\n",
    "**Ход исследования**\n",
    "\n",
    "\n",
    "Данные будут проверены на ошибки. На этапе предобработки будет рассмотрена возможность устранения пропусков, при их наличии и исключения лишних данных. Далее данные будут разбиты на выборки для обучения и проверки различных моделей.\n",
    "\n",
    "Таким образом, исследование будет состоять из следующих этапов:\n",
    "- обзор данных;\n",
    "- предобработка данных;\n",
    "- обучение моделей;\n",
    "- сравнение характеристик моделей;\n",
    "- борьба с дисбалансом для повышения качества моделей;\n",
    "- проверка наилучшей модели;\n",
    "- основные выводы."
   ]
  },
  {
   "cell_type": "markdown",
   "metadata": {},
   "source": [
    "## Подготовка данных"
   ]
  },
  {
   "cell_type": "code",
   "execution_count": 2,
   "metadata": {},
   "outputs": [],
   "source": [
    "import pandas as pd\n",
    "import numpy as np\n",
    "import seaborn as sns\n",
    "import matplotlib.pyplot as plt\n",
    "\n",
    "\n",
    "from tqdm import tqdm_notebook\n",
    "#from skimpy import clean_columns\n",
    "\n",
    "from sklearn.preprocessing import MinMaxScaler\n",
    "from sklearn.utils import shuffle\n",
    "from sklearn.model_selection import train_test_split, GridSearchCV\n",
    "from sklearn.metrics import accuracy_score, f1_score, recall_score, precision_score, roc_auc_score, roc_curve, confusion_matrix\n",
    "\n",
    "\n",
    "from sklearn.linear_model import LogisticRegression\n",
    "from sklearn.ensemble import RandomForestClassifier\n",
    "from sklearn.preprocessing import StandardScaler\n",
    "from sklearn.tree import DecisionTreeClassifier\n",
    "from sklearn.dummy import DummyClassifier\n",
    "\n",
    "import warnings\n",
    "warnings.filterwarnings(\"ignore\")"
   ]
  },
  {
   "cell_type": "code",
   "execution_count": 3,
   "metadata": {},
   "outputs": [],
   "source": [
    "data = pd.read_csv('/datasets/Churn.csv')"
   ]
  },
  {
   "cell_type": "code",
   "execution_count": 4,
   "metadata": {},
   "outputs": [
    {
     "data": {
      "text/html": [
       "<div>\n",
       "<style scoped>\n",
       "    .dataframe tbody tr th:only-of-type {\n",
       "        vertical-align: middle;\n",
       "    }\n",
       "\n",
       "    .dataframe tbody tr th {\n",
       "        vertical-align: top;\n",
       "    }\n",
       "\n",
       "    .dataframe thead th {\n",
       "        text-align: right;\n",
       "    }\n",
       "</style>\n",
       "<table border=\"1\" class=\"dataframe\">\n",
       "  <thead>\n",
       "    <tr style=\"text-align: right;\">\n",
       "      <th></th>\n",
       "      <th>RowNumber</th>\n",
       "      <th>CustomerId</th>\n",
       "      <th>Surname</th>\n",
       "      <th>CreditScore</th>\n",
       "      <th>Geography</th>\n",
       "      <th>Gender</th>\n",
       "      <th>Age</th>\n",
       "      <th>Tenure</th>\n",
       "      <th>Balance</th>\n",
       "      <th>NumOfProducts</th>\n",
       "      <th>HasCrCard</th>\n",
       "      <th>IsActiveMember</th>\n",
       "      <th>EstimatedSalary</th>\n",
       "      <th>Exited</th>\n",
       "    </tr>\n",
       "  </thead>\n",
       "  <tbody>\n",
       "    <tr>\n",
       "      <th>0</th>\n",
       "      <td>1</td>\n",
       "      <td>15634602</td>\n",
       "      <td>Hargrave</td>\n",
       "      <td>619</td>\n",
       "      <td>France</td>\n",
       "      <td>Female</td>\n",
       "      <td>42</td>\n",
       "      <td>2.0</td>\n",
       "      <td>0.00</td>\n",
       "      <td>1</td>\n",
       "      <td>1</td>\n",
       "      <td>1</td>\n",
       "      <td>101348.88</td>\n",
       "      <td>1</td>\n",
       "    </tr>\n",
       "    <tr>\n",
       "      <th>1</th>\n",
       "      <td>2</td>\n",
       "      <td>15647311</td>\n",
       "      <td>Hill</td>\n",
       "      <td>608</td>\n",
       "      <td>Spain</td>\n",
       "      <td>Female</td>\n",
       "      <td>41</td>\n",
       "      <td>1.0</td>\n",
       "      <td>83807.86</td>\n",
       "      <td>1</td>\n",
       "      <td>0</td>\n",
       "      <td>1</td>\n",
       "      <td>112542.58</td>\n",
       "      <td>0</td>\n",
       "    </tr>\n",
       "    <tr>\n",
       "      <th>2</th>\n",
       "      <td>3</td>\n",
       "      <td>15619304</td>\n",
       "      <td>Onio</td>\n",
       "      <td>502</td>\n",
       "      <td>France</td>\n",
       "      <td>Female</td>\n",
       "      <td>42</td>\n",
       "      <td>8.0</td>\n",
       "      <td>159660.80</td>\n",
       "      <td>3</td>\n",
       "      <td>1</td>\n",
       "      <td>0</td>\n",
       "      <td>113931.57</td>\n",
       "      <td>1</td>\n",
       "    </tr>\n",
       "    <tr>\n",
       "      <th>3</th>\n",
       "      <td>4</td>\n",
       "      <td>15701354</td>\n",
       "      <td>Boni</td>\n",
       "      <td>699</td>\n",
       "      <td>France</td>\n",
       "      <td>Female</td>\n",
       "      <td>39</td>\n",
       "      <td>1.0</td>\n",
       "      <td>0.00</td>\n",
       "      <td>2</td>\n",
       "      <td>0</td>\n",
       "      <td>0</td>\n",
       "      <td>93826.63</td>\n",
       "      <td>0</td>\n",
       "    </tr>\n",
       "    <tr>\n",
       "      <th>4</th>\n",
       "      <td>5</td>\n",
       "      <td>15737888</td>\n",
       "      <td>Mitchell</td>\n",
       "      <td>850</td>\n",
       "      <td>Spain</td>\n",
       "      <td>Female</td>\n",
       "      <td>43</td>\n",
       "      <td>2.0</td>\n",
       "      <td>125510.82</td>\n",
       "      <td>1</td>\n",
       "      <td>1</td>\n",
       "      <td>1</td>\n",
       "      <td>79084.10</td>\n",
       "      <td>0</td>\n",
       "    </tr>\n",
       "  </tbody>\n",
       "</table>\n",
       "</div>"
      ],
      "text/plain": [
       "   RowNumber  CustomerId   Surname  CreditScore Geography  Gender  Age  \\\n",
       "0          1    15634602  Hargrave          619    France  Female   42   \n",
       "1          2    15647311      Hill          608     Spain  Female   41   \n",
       "2          3    15619304      Onio          502    France  Female   42   \n",
       "3          4    15701354      Boni          699    France  Female   39   \n",
       "4          5    15737888  Mitchell          850     Spain  Female   43   \n",
       "\n",
       "   Tenure    Balance  NumOfProducts  HasCrCard  IsActiveMember  \\\n",
       "0     2.0       0.00              1          1               1   \n",
       "1     1.0   83807.86              1          0               1   \n",
       "2     8.0  159660.80              3          1               0   \n",
       "3     1.0       0.00              2          0               0   \n",
       "4     2.0  125510.82              1          1               1   \n",
       "\n",
       "   EstimatedSalary  Exited  \n",
       "0        101348.88       1  \n",
       "1        112542.58       0  \n",
       "2        113931.57       1  \n",
       "3         93826.63       0  \n",
       "4         79084.10       0  "
      ]
     },
     "execution_count": 4,
     "metadata": {},
     "output_type": "execute_result"
    }
   ],
   "source": [
    "data.head(5)"
   ]
  },
  {
   "cell_type": "code",
   "execution_count": 5,
   "metadata": {
    "scrolled": true
   },
   "outputs": [
    {
     "name": "stdout",
     "output_type": "stream",
     "text": [
      "<class 'pandas.core.frame.DataFrame'>\n",
      "RangeIndex: 10000 entries, 0 to 9999\n",
      "Data columns (total 14 columns):\n",
      " #   Column           Non-Null Count  Dtype  \n",
      "---  ------           --------------  -----  \n",
      " 0   RowNumber        10000 non-null  int64  \n",
      " 1   CustomerId       10000 non-null  int64  \n",
      " 2   Surname          10000 non-null  object \n",
      " 3   CreditScore      10000 non-null  int64  \n",
      " 4   Geography        10000 non-null  object \n",
      " 5   Gender           10000 non-null  object \n",
      " 6   Age              10000 non-null  int64  \n",
      " 7   Tenure           9091 non-null   float64\n",
      " 8   Balance          10000 non-null  float64\n",
      " 9   NumOfProducts    10000 non-null  int64  \n",
      " 10  HasCrCard        10000 non-null  int64  \n",
      " 11  IsActiveMember   10000 non-null  int64  \n",
      " 12  EstimatedSalary  10000 non-null  float64\n",
      " 13  Exited           10000 non-null  int64  \n",
      "dtypes: float64(3), int64(8), object(3)\n",
      "memory usage: 1.1+ MB\n"
     ]
    }
   ],
   "source": [
    "data.info()"
   ]
  },
  {
   "cell_type": "markdown",
   "metadata": {},
   "source": [
    "Отметим, что есть пропуски в столбце 'Tenure'"
   ]
  },
  {
   "cell_type": "code",
   "execution_count": 6,
   "metadata": {
    "scrolled": false
   },
   "outputs": [
    {
     "data": {
      "text/html": [
       "<div>\n",
       "<style scoped>\n",
       "    .dataframe tbody tr th:only-of-type {\n",
       "        vertical-align: middle;\n",
       "    }\n",
       "\n",
       "    .dataframe tbody tr th {\n",
       "        vertical-align: top;\n",
       "    }\n",
       "\n",
       "    .dataframe thead th {\n",
       "        text-align: right;\n",
       "    }\n",
       "</style>\n",
       "<table border=\"1\" class=\"dataframe\">\n",
       "  <thead>\n",
       "    <tr style=\"text-align: right;\">\n",
       "      <th></th>\n",
       "      <th>RowNumber</th>\n",
       "      <th>CustomerId</th>\n",
       "      <th>CreditScore</th>\n",
       "      <th>Age</th>\n",
       "      <th>Tenure</th>\n",
       "      <th>Balance</th>\n",
       "      <th>NumOfProducts</th>\n",
       "      <th>HasCrCard</th>\n",
       "      <th>IsActiveMember</th>\n",
       "      <th>EstimatedSalary</th>\n",
       "      <th>Exited</th>\n",
       "    </tr>\n",
       "  </thead>\n",
       "  <tbody>\n",
       "    <tr>\n",
       "      <th>count</th>\n",
       "      <td>10000.00000</td>\n",
       "      <td>1.000000e+04</td>\n",
       "      <td>10000.000000</td>\n",
       "      <td>10000.000000</td>\n",
       "      <td>9091.000000</td>\n",
       "      <td>10000.000000</td>\n",
       "      <td>10000.000000</td>\n",
       "      <td>10000.00000</td>\n",
       "      <td>10000.000000</td>\n",
       "      <td>10000.000000</td>\n",
       "      <td>10000.000000</td>\n",
       "    </tr>\n",
       "    <tr>\n",
       "      <th>mean</th>\n",
       "      <td>5000.50000</td>\n",
       "      <td>1.569094e+07</td>\n",
       "      <td>650.528800</td>\n",
       "      <td>38.921800</td>\n",
       "      <td>4.997690</td>\n",
       "      <td>76485.889288</td>\n",
       "      <td>1.530200</td>\n",
       "      <td>0.70550</td>\n",
       "      <td>0.515100</td>\n",
       "      <td>100090.239881</td>\n",
       "      <td>0.203700</td>\n",
       "    </tr>\n",
       "    <tr>\n",
       "      <th>std</th>\n",
       "      <td>2886.89568</td>\n",
       "      <td>7.193619e+04</td>\n",
       "      <td>96.653299</td>\n",
       "      <td>10.487806</td>\n",
       "      <td>2.894723</td>\n",
       "      <td>62397.405202</td>\n",
       "      <td>0.581654</td>\n",
       "      <td>0.45584</td>\n",
       "      <td>0.499797</td>\n",
       "      <td>57510.492818</td>\n",
       "      <td>0.402769</td>\n",
       "    </tr>\n",
       "    <tr>\n",
       "      <th>min</th>\n",
       "      <td>1.00000</td>\n",
       "      <td>1.556570e+07</td>\n",
       "      <td>350.000000</td>\n",
       "      <td>18.000000</td>\n",
       "      <td>0.000000</td>\n",
       "      <td>0.000000</td>\n",
       "      <td>1.000000</td>\n",
       "      <td>0.00000</td>\n",
       "      <td>0.000000</td>\n",
       "      <td>11.580000</td>\n",
       "      <td>0.000000</td>\n",
       "    </tr>\n",
       "    <tr>\n",
       "      <th>25%</th>\n",
       "      <td>2500.75000</td>\n",
       "      <td>1.562853e+07</td>\n",
       "      <td>584.000000</td>\n",
       "      <td>32.000000</td>\n",
       "      <td>2.000000</td>\n",
       "      <td>0.000000</td>\n",
       "      <td>1.000000</td>\n",
       "      <td>0.00000</td>\n",
       "      <td>0.000000</td>\n",
       "      <td>51002.110000</td>\n",
       "      <td>0.000000</td>\n",
       "    </tr>\n",
       "    <tr>\n",
       "      <th>50%</th>\n",
       "      <td>5000.50000</td>\n",
       "      <td>1.569074e+07</td>\n",
       "      <td>652.000000</td>\n",
       "      <td>37.000000</td>\n",
       "      <td>5.000000</td>\n",
       "      <td>97198.540000</td>\n",
       "      <td>1.000000</td>\n",
       "      <td>1.00000</td>\n",
       "      <td>1.000000</td>\n",
       "      <td>100193.915000</td>\n",
       "      <td>0.000000</td>\n",
       "    </tr>\n",
       "    <tr>\n",
       "      <th>75%</th>\n",
       "      <td>7500.25000</td>\n",
       "      <td>1.575323e+07</td>\n",
       "      <td>718.000000</td>\n",
       "      <td>44.000000</td>\n",
       "      <td>7.000000</td>\n",
       "      <td>127644.240000</td>\n",
       "      <td>2.000000</td>\n",
       "      <td>1.00000</td>\n",
       "      <td>1.000000</td>\n",
       "      <td>149388.247500</td>\n",
       "      <td>0.000000</td>\n",
       "    </tr>\n",
       "    <tr>\n",
       "      <th>max</th>\n",
       "      <td>10000.00000</td>\n",
       "      <td>1.581569e+07</td>\n",
       "      <td>850.000000</td>\n",
       "      <td>92.000000</td>\n",
       "      <td>10.000000</td>\n",
       "      <td>250898.090000</td>\n",
       "      <td>4.000000</td>\n",
       "      <td>1.00000</td>\n",
       "      <td>1.000000</td>\n",
       "      <td>199992.480000</td>\n",
       "      <td>1.000000</td>\n",
       "    </tr>\n",
       "  </tbody>\n",
       "</table>\n",
       "</div>"
      ],
      "text/plain": [
       "         RowNumber    CustomerId   CreditScore           Age       Tenure  \\\n",
       "count  10000.00000  1.000000e+04  10000.000000  10000.000000  9091.000000   \n",
       "mean    5000.50000  1.569094e+07    650.528800     38.921800     4.997690   \n",
       "std     2886.89568  7.193619e+04     96.653299     10.487806     2.894723   \n",
       "min        1.00000  1.556570e+07    350.000000     18.000000     0.000000   \n",
       "25%     2500.75000  1.562853e+07    584.000000     32.000000     2.000000   \n",
       "50%     5000.50000  1.569074e+07    652.000000     37.000000     5.000000   \n",
       "75%     7500.25000  1.575323e+07    718.000000     44.000000     7.000000   \n",
       "max    10000.00000  1.581569e+07    850.000000     92.000000    10.000000   \n",
       "\n",
       "             Balance  NumOfProducts    HasCrCard  IsActiveMember  \\\n",
       "count   10000.000000   10000.000000  10000.00000    10000.000000   \n",
       "mean    76485.889288       1.530200      0.70550        0.515100   \n",
       "std     62397.405202       0.581654      0.45584        0.499797   \n",
       "min         0.000000       1.000000      0.00000        0.000000   \n",
       "25%         0.000000       1.000000      0.00000        0.000000   \n",
       "50%     97198.540000       1.000000      1.00000        1.000000   \n",
       "75%    127644.240000       2.000000      1.00000        1.000000   \n",
       "max    250898.090000       4.000000      1.00000        1.000000   \n",
       "\n",
       "       EstimatedSalary        Exited  \n",
       "count     10000.000000  10000.000000  \n",
       "mean     100090.239881      0.203700  \n",
       "std       57510.492818      0.402769  \n",
       "min          11.580000      0.000000  \n",
       "25%       51002.110000      0.000000  \n",
       "50%      100193.915000      0.000000  \n",
       "75%      149388.247500      0.000000  \n",
       "max      199992.480000      1.000000  "
      ]
     },
     "execution_count": 6,
     "metadata": {},
     "output_type": "execute_result"
    }
   ],
   "source": [
    "data.describe()"
   ]
  },
  {
   "cell_type": "markdown",
   "metadata": {},
   "source": [
    "Проверим данные на дубликаты"
   ]
  },
  {
   "cell_type": "code",
   "execution_count": 7,
   "metadata": {},
   "outputs": [
    {
     "data": {
      "text/plain": [
       "0"
      ]
     },
     "execution_count": 7,
     "metadata": {},
     "output_type": "execute_result"
    }
   ],
   "source": [
    "data.duplicated().sum()"
   ]
  },
  {
   "cell_type": "markdown",
   "metadata": {},
   "source": [
    "Еще раз убедимся в пропусках"
   ]
  },
  {
   "cell_type": "code",
   "execution_count": 8,
   "metadata": {},
   "outputs": [
    {
     "data": {
      "text/plain": [
       "RowNumber            0\n",
       "CustomerId           0\n",
       "Surname              0\n",
       "CreditScore          0\n",
       "Geography            0\n",
       "Gender               0\n",
       "Age                  0\n",
       "Tenure             909\n",
       "Balance              0\n",
       "NumOfProducts        0\n",
       "HasCrCard            0\n",
       "IsActiveMember       0\n",
       "EstimatedSalary      0\n",
       "Exited               0\n",
       "dtype: int64"
      ]
     },
     "execution_count": 8,
     "metadata": {},
     "output_type": "execute_result"
    }
   ],
   "source": [
    "data.isna().sum()"
   ]
  },
  {
   "cell_type": "code",
   "execution_count": 9,
   "metadata": {},
   "outputs": [
    {
     "data": {
      "text/plain": [
       "count    9091.000000\n",
       "mean        4.997690\n",
       "std         2.894723\n",
       "min         0.000000\n",
       "25%         2.000000\n",
       "50%         5.000000\n",
       "75%         7.000000\n",
       "max        10.000000\n",
       "Name: Tenure, dtype: float64"
      ]
     },
     "execution_count": 9,
     "metadata": {},
     "output_type": "execute_result"
    }
   ],
   "source": [
    "data['Tenure'].describe()"
   ]
  },
  {
   "cell_type": "markdown",
   "metadata": {},
   "source": [
    "Так как практически нет разницы между средним и медианным значением, заменим пропуски на медиану."
   ]
  },
  {
   "cell_type": "code",
   "execution_count": 10,
   "metadata": {},
   "outputs": [],
   "source": [
    "data['Tenure'] = data['Tenure'].fillna(data.Tenure.median()).astype('int')"
   ]
  },
  {
   "cell_type": "markdown",
   "metadata": {},
   "source": [
    "Для формирования моделей данные по индексу строки данных, ИД клиента и его фамилии не нужны, поэтому данные столбцы можно удалить."
   ]
  },
  {
   "cell_type": "code",
   "execution_count": 11,
   "metadata": {},
   "outputs": [],
   "source": [
    "data = data.drop(['RowNumber', 'CustomerId', 'Surname'], axis=1)"
   ]
  },
  {
   "cell_type": "markdown",
   "metadata": {},
   "source": [
    "Приведем наименования столбцов к принятому виду."
   ]
  },
  {
   "cell_type": "code",
   "execution_count": 13,
   "metadata": {},
   "outputs": [],
   "source": [
    "data = data.rename( \n",
    " columns={ \n",
    "'CreditScore': 'credit_score', \n",
    "'Geography': 'geography', \n",
    "'Gender': 'gender', \n",
    "'Age': 'age',\n",
    "'Tenure': 'tenure', \n",
    "'Balance': 'balance', \n",
    "'NumOfProducts': 'num_of_products', \n",
    "'HasCrCard': 'has_cr_card', \n",
    "'IsActiveMember': 'is_active_member', \n",
    "'EstimatedSalary': 'estimated_salary', \n",
    "'Exited': 'exited', \n",
    " } \n",
    ")"
   ]
  },
  {
   "cell_type": "code",
   "execution_count": 14,
   "metadata": {
    "scrolled": true
   },
   "outputs": [
    {
     "data": {
      "text/html": [
       "<div>\n",
       "<style scoped>\n",
       "    .dataframe tbody tr th:only-of-type {\n",
       "        vertical-align: middle;\n",
       "    }\n",
       "\n",
       "    .dataframe tbody tr th {\n",
       "        vertical-align: top;\n",
       "    }\n",
       "\n",
       "    .dataframe thead th {\n",
       "        text-align: right;\n",
       "    }\n",
       "</style>\n",
       "<table border=\"1\" class=\"dataframe\">\n",
       "  <thead>\n",
       "    <tr style=\"text-align: right;\">\n",
       "      <th></th>\n",
       "      <th>credit_score</th>\n",
       "      <th>geography</th>\n",
       "      <th>gender</th>\n",
       "      <th>age</th>\n",
       "      <th>tenure</th>\n",
       "      <th>balance</th>\n",
       "      <th>num_of_products</th>\n",
       "      <th>has_cr_card</th>\n",
       "      <th>is_active_member</th>\n",
       "      <th>estimated_salary</th>\n",
       "      <th>exited</th>\n",
       "    </tr>\n",
       "  </thead>\n",
       "  <tbody>\n",
       "    <tr>\n",
       "      <th>0</th>\n",
       "      <td>619</td>\n",
       "      <td>France</td>\n",
       "      <td>Female</td>\n",
       "      <td>42</td>\n",
       "      <td>2</td>\n",
       "      <td>0.00</td>\n",
       "      <td>1</td>\n",
       "      <td>1</td>\n",
       "      <td>1</td>\n",
       "      <td>101348.88</td>\n",
       "      <td>1</td>\n",
       "    </tr>\n",
       "    <tr>\n",
       "      <th>1</th>\n",
       "      <td>608</td>\n",
       "      <td>Spain</td>\n",
       "      <td>Female</td>\n",
       "      <td>41</td>\n",
       "      <td>1</td>\n",
       "      <td>83807.86</td>\n",
       "      <td>1</td>\n",
       "      <td>0</td>\n",
       "      <td>1</td>\n",
       "      <td>112542.58</td>\n",
       "      <td>0</td>\n",
       "    </tr>\n",
       "    <tr>\n",
       "      <th>2</th>\n",
       "      <td>502</td>\n",
       "      <td>France</td>\n",
       "      <td>Female</td>\n",
       "      <td>42</td>\n",
       "      <td>8</td>\n",
       "      <td>159660.80</td>\n",
       "      <td>3</td>\n",
       "      <td>1</td>\n",
       "      <td>0</td>\n",
       "      <td>113931.57</td>\n",
       "      <td>1</td>\n",
       "    </tr>\n",
       "    <tr>\n",
       "      <th>3</th>\n",
       "      <td>699</td>\n",
       "      <td>France</td>\n",
       "      <td>Female</td>\n",
       "      <td>39</td>\n",
       "      <td>1</td>\n",
       "      <td>0.00</td>\n",
       "      <td>2</td>\n",
       "      <td>0</td>\n",
       "      <td>0</td>\n",
       "      <td>93826.63</td>\n",
       "      <td>0</td>\n",
       "    </tr>\n",
       "    <tr>\n",
       "      <th>4</th>\n",
       "      <td>850</td>\n",
       "      <td>Spain</td>\n",
       "      <td>Female</td>\n",
       "      <td>43</td>\n",
       "      <td>2</td>\n",
       "      <td>125510.82</td>\n",
       "      <td>1</td>\n",
       "      <td>1</td>\n",
       "      <td>1</td>\n",
       "      <td>79084.10</td>\n",
       "      <td>0</td>\n",
       "    </tr>\n",
       "  </tbody>\n",
       "</table>\n",
       "</div>"
      ],
      "text/plain": [
       "   credit_score geography  gender  age  tenure    balance  num_of_products  \\\n",
       "0           619    France  Female   42       2       0.00                1   \n",
       "1           608     Spain  Female   41       1   83807.86                1   \n",
       "2           502    France  Female   42       8  159660.80                3   \n",
       "3           699    France  Female   39       1       0.00                2   \n",
       "4           850     Spain  Female   43       2  125510.82                1   \n",
       "\n",
       "   has_cr_card  is_active_member  estimated_salary  exited  \n",
       "0            1                 1         101348.88       1  \n",
       "1            0                 1         112542.58       0  \n",
       "2            1                 0         113931.57       1  \n",
       "3            0                 0          93826.63       0  \n",
       "4            1                 1          79084.10       0  "
      ]
     },
     "execution_count": 14,
     "metadata": {},
     "output_type": "execute_result"
    }
   ],
   "source": [
    "data.head()"
   ]
  },
  {
   "cell_type": "markdown",
   "metadata": {},
   "source": [
    "В датасете 10000 объектов, пропуски в колонке Tenure заполнили медианным значением и изменили тип данных на int, явных дубликатов нет. Удалили из датасета след.колонки RowNumber, CustomerId, Surname. Привели наименования колонок к хорошему стилю."
   ]
  },
  {
   "cell_type": "markdown",
   "metadata": {},
   "source": [
    "## Исследование задачи"
   ]
  },
  {
   "cell_type": "markdown",
   "metadata": {},
   "source": [
    "### Преобразуем категориальные значения в численные с помощью техники прямого кодирования (One-Hot Encoding, OHE)"
   ]
  },
  {
   "cell_type": "code",
   "execution_count": 15,
   "metadata": {},
   "outputs": [],
   "source": [
    "data_ohe = pd.get_dummies(data, drop_first=True, columns=['geography', 'gender'])\n"
   ]
  },
  {
   "cell_type": "code",
   "execution_count": 16,
   "metadata": {},
   "outputs": [
    {
     "data": {
      "text/html": [
       "<div>\n",
       "<style scoped>\n",
       "    .dataframe tbody tr th:only-of-type {\n",
       "        vertical-align: middle;\n",
       "    }\n",
       "\n",
       "    .dataframe tbody tr th {\n",
       "        vertical-align: top;\n",
       "    }\n",
       "\n",
       "    .dataframe thead th {\n",
       "        text-align: right;\n",
       "    }\n",
       "</style>\n",
       "<table border=\"1\" class=\"dataframe\">\n",
       "  <thead>\n",
       "    <tr style=\"text-align: right;\">\n",
       "      <th></th>\n",
       "      <th>credit_score</th>\n",
       "      <th>age</th>\n",
       "      <th>tenure</th>\n",
       "      <th>balance</th>\n",
       "      <th>num_of_products</th>\n",
       "      <th>has_cr_card</th>\n",
       "      <th>is_active_member</th>\n",
       "      <th>estimated_salary</th>\n",
       "      <th>exited</th>\n",
       "      <th>geography_Germany</th>\n",
       "      <th>geography_Spain</th>\n",
       "      <th>gender_Male</th>\n",
       "    </tr>\n",
       "  </thead>\n",
       "  <tbody>\n",
       "    <tr>\n",
       "      <th>0</th>\n",
       "      <td>619</td>\n",
       "      <td>42</td>\n",
       "      <td>2</td>\n",
       "      <td>0.00</td>\n",
       "      <td>1</td>\n",
       "      <td>1</td>\n",
       "      <td>1</td>\n",
       "      <td>101348.88</td>\n",
       "      <td>1</td>\n",
       "      <td>0</td>\n",
       "      <td>0</td>\n",
       "      <td>0</td>\n",
       "    </tr>\n",
       "    <tr>\n",
       "      <th>1</th>\n",
       "      <td>608</td>\n",
       "      <td>41</td>\n",
       "      <td>1</td>\n",
       "      <td>83807.86</td>\n",
       "      <td>1</td>\n",
       "      <td>0</td>\n",
       "      <td>1</td>\n",
       "      <td>112542.58</td>\n",
       "      <td>0</td>\n",
       "      <td>0</td>\n",
       "      <td>1</td>\n",
       "      <td>0</td>\n",
       "    </tr>\n",
       "    <tr>\n",
       "      <th>2</th>\n",
       "      <td>502</td>\n",
       "      <td>42</td>\n",
       "      <td>8</td>\n",
       "      <td>159660.80</td>\n",
       "      <td>3</td>\n",
       "      <td>1</td>\n",
       "      <td>0</td>\n",
       "      <td>113931.57</td>\n",
       "      <td>1</td>\n",
       "      <td>0</td>\n",
       "      <td>0</td>\n",
       "      <td>0</td>\n",
       "    </tr>\n",
       "    <tr>\n",
       "      <th>3</th>\n",
       "      <td>699</td>\n",
       "      <td>39</td>\n",
       "      <td>1</td>\n",
       "      <td>0.00</td>\n",
       "      <td>2</td>\n",
       "      <td>0</td>\n",
       "      <td>0</td>\n",
       "      <td>93826.63</td>\n",
       "      <td>0</td>\n",
       "      <td>0</td>\n",
       "      <td>0</td>\n",
       "      <td>0</td>\n",
       "    </tr>\n",
       "    <tr>\n",
       "      <th>4</th>\n",
       "      <td>850</td>\n",
       "      <td>43</td>\n",
       "      <td>2</td>\n",
       "      <td>125510.82</td>\n",
       "      <td>1</td>\n",
       "      <td>1</td>\n",
       "      <td>1</td>\n",
       "      <td>79084.10</td>\n",
       "      <td>0</td>\n",
       "      <td>0</td>\n",
       "      <td>1</td>\n",
       "      <td>0</td>\n",
       "    </tr>\n",
       "    <tr>\n",
       "      <th>...</th>\n",
       "      <td>...</td>\n",
       "      <td>...</td>\n",
       "      <td>...</td>\n",
       "      <td>...</td>\n",
       "      <td>...</td>\n",
       "      <td>...</td>\n",
       "      <td>...</td>\n",
       "      <td>...</td>\n",
       "      <td>...</td>\n",
       "      <td>...</td>\n",
       "      <td>...</td>\n",
       "      <td>...</td>\n",
       "    </tr>\n",
       "    <tr>\n",
       "      <th>9995</th>\n",
       "      <td>771</td>\n",
       "      <td>39</td>\n",
       "      <td>5</td>\n",
       "      <td>0.00</td>\n",
       "      <td>2</td>\n",
       "      <td>1</td>\n",
       "      <td>0</td>\n",
       "      <td>96270.64</td>\n",
       "      <td>0</td>\n",
       "      <td>0</td>\n",
       "      <td>0</td>\n",
       "      <td>1</td>\n",
       "    </tr>\n",
       "    <tr>\n",
       "      <th>9996</th>\n",
       "      <td>516</td>\n",
       "      <td>35</td>\n",
       "      <td>10</td>\n",
       "      <td>57369.61</td>\n",
       "      <td>1</td>\n",
       "      <td>1</td>\n",
       "      <td>1</td>\n",
       "      <td>101699.77</td>\n",
       "      <td>0</td>\n",
       "      <td>0</td>\n",
       "      <td>0</td>\n",
       "      <td>1</td>\n",
       "    </tr>\n",
       "    <tr>\n",
       "      <th>9997</th>\n",
       "      <td>709</td>\n",
       "      <td>36</td>\n",
       "      <td>7</td>\n",
       "      <td>0.00</td>\n",
       "      <td>1</td>\n",
       "      <td>0</td>\n",
       "      <td>1</td>\n",
       "      <td>42085.58</td>\n",
       "      <td>1</td>\n",
       "      <td>0</td>\n",
       "      <td>0</td>\n",
       "      <td>0</td>\n",
       "    </tr>\n",
       "    <tr>\n",
       "      <th>9998</th>\n",
       "      <td>772</td>\n",
       "      <td>42</td>\n",
       "      <td>3</td>\n",
       "      <td>75075.31</td>\n",
       "      <td>2</td>\n",
       "      <td>1</td>\n",
       "      <td>0</td>\n",
       "      <td>92888.52</td>\n",
       "      <td>1</td>\n",
       "      <td>1</td>\n",
       "      <td>0</td>\n",
       "      <td>1</td>\n",
       "    </tr>\n",
       "    <tr>\n",
       "      <th>9999</th>\n",
       "      <td>792</td>\n",
       "      <td>28</td>\n",
       "      <td>5</td>\n",
       "      <td>130142.79</td>\n",
       "      <td>1</td>\n",
       "      <td>1</td>\n",
       "      <td>0</td>\n",
       "      <td>38190.78</td>\n",
       "      <td>0</td>\n",
       "      <td>0</td>\n",
       "      <td>0</td>\n",
       "      <td>0</td>\n",
       "    </tr>\n",
       "  </tbody>\n",
       "</table>\n",
       "<p>10000 rows × 12 columns</p>\n",
       "</div>"
      ],
      "text/plain": [
       "      credit_score  age  tenure    balance  num_of_products  has_cr_card  \\\n",
       "0              619   42       2       0.00                1            1   \n",
       "1              608   41       1   83807.86                1            0   \n",
       "2              502   42       8  159660.80                3            1   \n",
       "3              699   39       1       0.00                2            0   \n",
       "4              850   43       2  125510.82                1            1   \n",
       "...            ...  ...     ...        ...              ...          ...   \n",
       "9995           771   39       5       0.00                2            1   \n",
       "9996           516   35      10   57369.61                1            1   \n",
       "9997           709   36       7       0.00                1            0   \n",
       "9998           772   42       3   75075.31                2            1   \n",
       "9999           792   28       5  130142.79                1            1   \n",
       "\n",
       "      is_active_member  estimated_salary  exited  geography_Germany  \\\n",
       "0                    1         101348.88       1                  0   \n",
       "1                    1         112542.58       0                  0   \n",
       "2                    0         113931.57       1                  0   \n",
       "3                    0          93826.63       0                  0   \n",
       "4                    1          79084.10       0                  0   \n",
       "...                ...               ...     ...                ...   \n",
       "9995                 0          96270.64       0                  0   \n",
       "9996                 1         101699.77       0                  0   \n",
       "9997                 1          42085.58       1                  0   \n",
       "9998                 0          92888.52       1                  1   \n",
       "9999                 0          38190.78       0                  0   \n",
       "\n",
       "      geography_Spain  gender_Male  \n",
       "0                   0            0  \n",
       "1                   1            0  \n",
       "2                   0            0  \n",
       "3                   0            0  \n",
       "4                   1            0  \n",
       "...               ...          ...  \n",
       "9995                0            1  \n",
       "9996                0            1  \n",
       "9997                0            0  \n",
       "9998                0            1  \n",
       "9999                0            0  \n",
       "\n",
       "[10000 rows x 12 columns]"
      ]
     },
     "execution_count": 16,
     "metadata": {},
     "output_type": "execute_result"
    }
   ],
   "source": [
    "data_ohe"
   ]
  },
  {
   "cell_type": "code",
   "execution_count": 17,
   "metadata": {},
   "outputs": [
    {
     "data": {
      "text/plain": [
       "(10000, 12)"
      ]
     },
     "execution_count": 17,
     "metadata": {},
     "output_type": "execute_result"
    }
   ],
   "source": [
    "data_ohe.shape"
   ]
  },
  {
   "cell_type": "markdown",
   "metadata": {},
   "source": [
    " ### Формирование выборок: обучающая, валидационная, тестовая"
   ]
  },
  {
   "cell_type": "markdown",
   "metadata": {},
   "source": [
    "Выделим признаки и целевой показатель."
   ]
  },
  {
   "cell_type": "code",
   "execution_count": 18,
   "metadata": {},
   "outputs": [],
   "source": [
    "features = data_ohe.drop('exited', axis=1)\n",
    "target = data_ohe['exited']"
   ]
  },
  {
   "cell_type": "markdown",
   "metadata": {},
   "source": [
    "Разделим данные на промежуточную и тестовую выборки (20%)"
   ]
  },
  {
   "cell_type": "code",
   "execution_count": 19,
   "metadata": {},
   "outputs": [],
   "source": [
    "features_interim, features_test, target_interim, target_test = train_test_split(\n",
    "    features, target, test_size=0.20, random_state=12345, stratify=target)\n"
   ]
  },
  {
   "cell_type": "markdown",
   "metadata": {},
   "source": [
    "Промежуточную выборку разделим на обучающую и валидационную"
   ]
  },
  {
   "cell_type": "code",
   "execution_count": 20,
   "metadata": {},
   "outputs": [],
   "source": [
    "features_train, features_valid, target_train, target_valid = train_test_split(features_interim, target_interim, test_size=0.25, random_state=12345)"
   ]
  },
  {
   "cell_type": "markdown",
   "metadata": {},
   "source": [
    "Полученные выборки:\n",
    "Обучающая:\n",
    "features_train,\n",
    "target_train\n",
    "\n",
    "Валидационная:\n",
    "features_valid,\n",
    "target_valid\n",
    "\n",
    "Тестовая:\n",
    "features_test,\n",
    "target_test"
   ]
  },
  {
   "cell_type": "code",
   "execution_count": 21,
   "metadata": {},
   "outputs": [
    {
     "data": {
      "text/plain": [
       "(6000, 11)"
      ]
     },
     "execution_count": 21,
     "metadata": {},
     "output_type": "execute_result"
    }
   ],
   "source": [
    "features_train.shape"
   ]
  },
  {
   "cell_type": "code",
   "execution_count": 22,
   "metadata": {},
   "outputs": [
    {
     "data": {
      "text/plain": [
       "(2000, 11)"
      ]
     },
     "execution_count": 22,
     "metadata": {},
     "output_type": "execute_result"
    }
   ],
   "source": [
    "features_valid.shape"
   ]
  },
  {
   "cell_type": "code",
   "execution_count": 23,
   "metadata": {},
   "outputs": [
    {
     "data": {
      "text/plain": [
       "(2000, 11)"
      ]
     },
     "execution_count": 23,
     "metadata": {},
     "output_type": "execute_result"
    }
   ],
   "source": [
    "features_test.shape"
   ]
  },
  {
   "cell_type": "markdown",
   "metadata": {},
   "source": [
    "Получены обучающая, тестовая и валидационная выработки."
   ]
  },
  {
   "cell_type": "markdown",
   "metadata": {},
   "source": [
    "### Масштабирование признаков"
   ]
  },
  {
   "cell_type": "markdown",
   "metadata": {},
   "source": [
    "Для масштабирования зафиксируем численные признаки"
   ]
  },
  {
   "cell_type": "code",
   "execution_count": 24,
   "metadata": {},
   "outputs": [],
   "source": [
    "numeric = ['credit_score', 'age', 'tenure', 'balance', 'num_of_products', 'estimated_salary']"
   ]
  },
  {
   "cell_type": "code",
   "execution_count": 25,
   "metadata": {},
   "outputs": [
    {
     "data": {
      "text/plain": [
       "StandardScaler()"
      ]
     },
     "execution_count": 25,
     "metadata": {},
     "output_type": "execute_result"
    }
   ],
   "source": [
    "scaler = StandardScaler()\n",
    "scaler.fit(features_train[numeric])"
   ]
  },
  {
   "cell_type": "code",
   "execution_count": 26,
   "metadata": {},
   "outputs": [
    {
     "data": {
      "text/html": [
       "<div>\n",
       "<style scoped>\n",
       "    .dataframe tbody tr th:only-of-type {\n",
       "        vertical-align: middle;\n",
       "    }\n",
       "\n",
       "    .dataframe tbody tr th {\n",
       "        vertical-align: top;\n",
       "    }\n",
       "\n",
       "    .dataframe thead th {\n",
       "        text-align: right;\n",
       "    }\n",
       "</style>\n",
       "<table border=\"1\" class=\"dataframe\">\n",
       "  <thead>\n",
       "    <tr style=\"text-align: right;\">\n",
       "      <th></th>\n",
       "      <th>credit_score</th>\n",
       "      <th>age</th>\n",
       "      <th>tenure</th>\n",
       "      <th>balance</th>\n",
       "      <th>num_of_products</th>\n",
       "      <th>has_cr_card</th>\n",
       "      <th>is_active_member</th>\n",
       "      <th>estimated_salary</th>\n",
       "      <th>geography_Germany</th>\n",
       "      <th>geography_Spain</th>\n",
       "      <th>gender_Male</th>\n",
       "    </tr>\n",
       "  </thead>\n",
       "  <tbody>\n",
       "    <tr>\n",
       "      <th>8201</th>\n",
       "      <td>0.700234</td>\n",
       "      <td>0.966950</td>\n",
       "      <td>1.815982</td>\n",
       "      <td>0.092397</td>\n",
       "      <td>-0.912623</td>\n",
       "      <td>0</td>\n",
       "      <td>1</td>\n",
       "      <td>-1.547205</td>\n",
       "      <td>0</td>\n",
       "      <td>1</td>\n",
       "      <td>0</td>\n",
       "    </tr>\n",
       "    <tr>\n",
       "      <th>9939</th>\n",
       "      <td>0.444023</td>\n",
       "      <td>1.731917</td>\n",
       "      <td>1.453571</td>\n",
       "      <td>-1.223611</td>\n",
       "      <td>0.792152</td>\n",
       "      <td>1</td>\n",
       "      <td>1</td>\n",
       "      <td>0.603359</td>\n",
       "      <td>0</td>\n",
       "      <td>1</td>\n",
       "      <td>0</td>\n",
       "    </tr>\n",
       "    <tr>\n",
       "      <th>4823</th>\n",
       "      <td>1.397129</td>\n",
       "      <td>-0.658605</td>\n",
       "      <td>0.366337</td>\n",
       "      <td>0.607001</td>\n",
       "      <td>-0.912623</td>\n",
       "      <td>1</td>\n",
       "      <td>0</td>\n",
       "      <td>-1.466752</td>\n",
       "      <td>0</td>\n",
       "      <td>1</td>\n",
       "      <td>0</td>\n",
       "    </tr>\n",
       "    <tr>\n",
       "      <th>7814</th>\n",
       "      <td>-0.027406</td>\n",
       "      <td>-0.562984</td>\n",
       "      <td>-0.720896</td>\n",
       "      <td>1.471017</td>\n",
       "      <td>0.792152</td>\n",
       "      <td>0</td>\n",
       "      <td>0</td>\n",
       "      <td>-0.178861</td>\n",
       "      <td>1</td>\n",
       "      <td>0</td>\n",
       "      <td>0</td>\n",
       "    </tr>\n",
       "    <tr>\n",
       "      <th>2046</th>\n",
       "      <td>-1.328959</td>\n",
       "      <td>-0.467363</td>\n",
       "      <td>1.091160</td>\n",
       "      <td>0.695025</td>\n",
       "      <td>0.792152</td>\n",
       "      <td>1</td>\n",
       "      <td>1</td>\n",
       "      <td>-1.733990</td>\n",
       "      <td>1</td>\n",
       "      <td>0</td>\n",
       "      <td>1</td>\n",
       "    </tr>\n",
       "  </tbody>\n",
       "</table>\n",
       "</div>"
      ],
      "text/plain": [
       "      credit_score       age    tenure   balance  num_of_products  \\\n",
       "8201      0.700234  0.966950  1.815982  0.092397        -0.912623   \n",
       "9939      0.444023  1.731917  1.453571 -1.223611         0.792152   \n",
       "4823      1.397129 -0.658605  0.366337  0.607001        -0.912623   \n",
       "7814     -0.027406 -0.562984 -0.720896  1.471017         0.792152   \n",
       "2046     -1.328959 -0.467363  1.091160  0.695025         0.792152   \n",
       "\n",
       "      has_cr_card  is_active_member  estimated_salary  geography_Germany  \\\n",
       "8201            0                 1         -1.547205                  0   \n",
       "9939            1                 1          0.603359                  0   \n",
       "4823            1                 0         -1.466752                  0   \n",
       "7814            0                 0         -0.178861                  1   \n",
       "2046            1                 1         -1.733990                  1   \n",
       "\n",
       "      geography_Spain  gender_Male  \n",
       "8201                1            0  \n",
       "9939                1            0  \n",
       "4823                1            0  \n",
       "7814                0            0  \n",
       "2046                0            1  "
      ]
     },
     "execution_count": 26,
     "metadata": {},
     "output_type": "execute_result"
    }
   ],
   "source": [
    "#Масштабируем числ признаки обучающей выборки\n",
    "features_train[numeric] = scaler.transform(features_train[numeric])\n",
    "features_train.head()"
   ]
  },
  {
   "cell_type": "code",
   "execution_count": 27,
   "metadata": {},
   "outputs": [],
   "source": [
    "#Масштабируем численные признаки валидационной выборки \n",
    "features_valid[numeric] = scaler.transform(features_valid[numeric])"
   ]
  },
  {
   "cell_type": "code",
   "execution_count": 28,
   "metadata": {},
   "outputs": [],
   "source": [
    "#Масштабируем численные признаки тестовой выборки \n",
    "features_test[numeric] = scaler.transform(features_test[numeric])"
   ]
  },
  {
   "cell_type": "markdown",
   "metadata": {},
   "source": [
    " Rатегориальные значения преобразованы в численные с помощью техники прямого кодирования. Сформированы обучающая, валидационная и тестовая выборки. Проведено масштабирование признаков."
   ]
  },
  {
   "cell_type": "markdown",
   "metadata": {},
   "source": [
    "## Борьба с дисбалансом"
   ]
  },
  {
   "cell_type": "markdown",
   "metadata": {},
   "source": [
    "Рассмотрим различные виды моделей при дисбалансе классов."
   ]
  },
  {
   "cell_type": "markdown",
   "metadata": {},
   "source": [
    "### Модель решающего дерева"
   ]
  },
  {
   "cell_type": "code",
   "execution_count": 29,
   "metadata": {},
   "outputs": [
    {
     "data": {
      "application/vnd.jupyter.widget-view+json": {
       "model_id": "fb25ac305b524bf7a436bae01c484f4f",
       "version_major": 2,
       "version_minor": 0
      },
      "text/plain": [
       "  0%|          | 0/10 [00:00<?, ?it/s]"
      ]
     },
     "metadata": {},
     "output_type": "display_data"
    },
    {
     "name": "stdout",
     "output_type": "stream",
     "text": [
      "Наилучшая модель \"дерево решений\" для валидационной выборки: DecisionTreeClassifier(max_depth=7, random_state=12345)\n",
      "Глубина дерева наилучшей модели \"дерево решений\" для валидационной выборки: 7\n",
      "F1-мера наилучшей модели \"дерево решений\" для валидационной выборки: 0.5622254758418741\n",
      "AUC-ROC наилучшей модели \"дерево решений\" для валидационной выборки: 0.8316028756824057\n",
      "Точность попадания по классам 0.8505\n",
      "Precision 0.7413127413127413\n",
      "Recall 0.4528301886792453\n",
      "CPU times: user 398 ms, sys: 9.52 ms, total: 408 ms\n",
      "Wall time: 441 ms\n"
     ]
    }
   ],
   "source": [
    "%%time\n",
    "\n",
    "best_model = None\n",
    "best_depth = 0\n",
    "best_f1 = 0\n",
    "best_auc_roc = 0\n",
    "best_accuracy = 0\n",
    "best_precision = 0\n",
    "best_recall  = 0\n",
    "\n",
    "\n",
    "for depth in tqdm_notebook(range(1, 11)):\n",
    "    # инициализируем модель - дерево решений\n",
    "    model = DecisionTreeClassifier(random_state=12345, max_depth=depth)\n",
    "    \n",
    "    # обучим модель на обучающей выборке\n",
    "    model.fit(features_train, target_train)\n",
    "    \n",
    "    prediction_train = pd.Series(model.predict(features_train))\n",
    "    \n",
    "    # F1 для дерева решений на обуч.выборке\n",
    "    f1_train = f1_score(target_train, prediction_train)\n",
    "    \n",
    "    # предсказание модели на валидационной выборке\n",
    "    prediction_valid = pd.Series(model.predict(features_valid))\n",
    "    \n",
    "    # F1 для дерева решений на валидационной.выборке\n",
    "    f1_valid = f1_score(target_valid, prediction_valid)\n",
    "    \n",
    "    # Найдем вероятность классов на валидационной выборке\n",
    "    probabilities_valid = model.predict_proba(features_valid)\n",
    "    \n",
    "    # Сохраним значения класса 1\n",
    "    probab_one_valid = probabilities_valid[:, 1]\n",
    "    \n",
    "    # AUC-ROC для модели дерева решений\n",
    "    roc_auc_valid = roc_auc_score(target_valid, probab_one_valid)\n",
    "    \n",
    "    # точность попадания по классам для модели дерева решений\n",
    "    accuracy = accuracy_score(target_valid, prediction_valid)\n",
    "\n",
    "    # precision для модели дерева решений\n",
    "    precision = precision_score(target_valid, prediction_valid)\n",
    "    \n",
    "    # recall для модели дерева решений\n",
    "    recall = recall_score(target_valid, prediction_valid)\n",
    "    \n",
    "    if f1_valid > best_f1:\n",
    "        best_model = model\n",
    "        best_depth = depth\n",
    "        best_f1 = f1_valid\n",
    "        best_auc_roc = roc_auc_valid\n",
    "        best_accuracy = accuracy\n",
    "        best_precision = precision\n",
    "        best_recall = recall\n",
    "        \n",
    "        \n",
    "print('Наилучшая модель \"дерево решений\" для валидационной выборки:', best_model)\n",
    "print('Глубина дерева наилучшей модели \"дерево решений\" для валидационной выборки:', best_depth)\n",
    "print('F1-мера наилучшей модели \"дерево решений\" для валидационной выборки:', best_f1)\n",
    "print('AUC-ROC наилучшей модели \"дерево решений\" для валидационной выборки:', best_auc_roc)\n",
    "print('Точность попадания по классам', best_accuracy)\n",
    "print('Precision', best_precision)\n",
    "print('Recall', best_recall)"
   ]
  },
  {
   "cell_type": "markdown",
   "metadata": {},
   "source": [
    "Видим, что F1-мера наилучшей модели для валидационной выборки состовляет = 0.56\n",
    "AUC-ROC = 0.83 соответственно, где глубина состовляла 7."
   ]
  },
  {
   "cell_type": "markdown",
   "metadata": {},
   "source": [
    "### Модель случайного леса"
   ]
  },
  {
   "cell_type": "code",
   "execution_count": 30,
   "metadata": {},
   "outputs": [
    {
     "data": {
      "application/vnd.jupyter.widget-view+json": {
       "model_id": "49dbb098dff44143b91dda462983f7b7",
       "version_major": 2,
       "version_minor": 0
      },
      "text/plain": [
       "  0%|          | 0/10 [00:00<?, ?it/s]"
      ]
     },
     "metadata": {},
     "output_type": "display_data"
    },
    {
     "name": "stdout",
     "output_type": "stream",
     "text": [
      "Наилучшая модель \"случайный лес\" для валидационной выборки: DecisionTreeClassifier(max_depth=10, random_state=12345)\n",
      "Количество деревьев наилучшей модели \"случайный лес\" для валидационной выборки: 16\n",
      "Глубина дерева наилучшей модели \"случайный лес\" для валидационной выборки: 10\n",
      "F1-мера наилучшей модели \"случайный лес\" для валидационной выборки: 0.5451713395638629\n",
      "AUC-ROC наилучшей модели \"случайный лес\" для валидационной выборки: 0.7670796020496121\n",
      "Точность попадания по классам 0.854\n",
      "Precision 0.8027522935779816\n",
      "Recall 0.41273584905660377\n",
      "CPU times: user 15.2 s, sys: 52 ms, total: 15.3 s\n",
      "Wall time: 16.9 s\n"
     ]
    }
   ],
   "source": [
    "%%time\n",
    "\n",
    "best_model = None\n",
    "best_depth = 0\n",
    "best_est = 0\n",
    "best_f1 = 0\n",
    "best_auc_roc = 0\n",
    "best_accuracy = 0\n",
    "best_precision = 0\n",
    "best_recall  = 0\n",
    "\n",
    "for depth in tqdm_notebook(range(1, 11)):\n",
    "    for est in range(1, 20):\n",
    "    # инициализируем модель - дерево решений\n",
    "        model_rf = RandomForestClassifier(max_depth=depth, n_estimators=est, random_state=12345)\n",
    "\n",
    "        # обучим модель на обучающей выборке\n",
    "        model_rf.fit(features_train, target_train)\n",
    "\n",
    "        prediction_train = pd.Series(model_rf.predict(features_train))\n",
    "\n",
    "        # F1 для дерева решений на обуч.выборке\n",
    "        f1_train = f1_score(target_train, prediction_train)\n",
    "\n",
    "        # предсказание модели на валидационной выборке\n",
    "        prediction_valid = pd.Series(model_rf.predict(features_valid))\n",
    "\n",
    "        # F1 для дерева решений на валидационной.выборке\n",
    "        f1_valid = f1_score(target_valid, prediction_valid)\n",
    "\n",
    "        # Найдем вероятность классов на валидационной выборке\n",
    "        probabilities_valid = model.predict_proba(features_valid)\n",
    "\n",
    "        # Сохраним значения класса 1\n",
    "        probab_one_valid = probabilities_valid[:, 1]\n",
    "    \n",
    "        # AUC-ROC для модели дерева решений\n",
    "        roc_auc_valid = roc_auc_score(target_valid, probab_one_valid)\n",
    "        \n",
    "        # точность попадания по классам для модели дерева решений\n",
    "        accuracy = accuracy_score(target_valid, prediction_valid)\n",
    "\n",
    "        # precision для модели дерева решений\n",
    "        precision = precision_score(target_valid, prediction_valid)\n",
    "    \n",
    "        # recall для модели дерева решений\n",
    "        recall = recall_score(target_valid, prediction_valid)\n",
    "\n",
    "        if f1_valid > best_f1:\n",
    "            best_model = model\n",
    "            best_depth = depth\n",
    "            best_est = est\n",
    "            best_f1 = f1_valid\n",
    "            best_auc_roc = roc_auc_valid\n",
    "            best_accuracy = accuracy\n",
    "            best_precision = precision\n",
    "            best_recall = recall\n",
    "\n",
    "print('Наилучшая модель \"случайный лес\" для валидационной выборки:', best_model)\n",
    "print('Количество деревьев наилучшей модели \"случайный лес\" для валидационной выборки:', best_est)\n",
    "print('Глубина дерева наилучшей модели \"случайный лес\" для валидационной выборки:', best_depth)\n",
    "print('F1-мера наилучшей модели \"случайный лес\" для валидационной выборки:', best_f1)\n",
    "print('AUC-ROC наилучшей модели \"случайный лес\" для валидационной выборки:', best_auc_roc)\n",
    "print('Точность попадания по классам', best_accuracy)\n",
    "print('Precision', best_precision)\n",
    "print('Recall', best_recall)"
   ]
  },
  {
   "cell_type": "markdown",
   "metadata": {},
   "source": [
    "идим, что F1-мера наилучшей модели для валидационной выборки состовляет = 0.55\n",
    "AUC-ROC = 0.76 соответственно, где глубина состовляла 10, а количество деревьев 16."
   ]
  },
  {
   "cell_type": "markdown",
   "metadata": {},
   "source": [
    "### Модель логистической регрессии"
   ]
  },
  {
   "cell_type": "code",
   "execution_count": 31,
   "metadata": {
    "scrolled": true
   },
   "outputs": [
    {
     "name": "stdout",
     "output_type": "stream",
     "text": [
      "F1-мера модели 'логистическая регрессия' на валидационной выборке: 0.3135135135135135\n",
      "AUC-ROC модели 'логистическая регрессия' на валидационной выборке: 0.7758176898764486\n",
      "Точность попадания по классам 0.8095\n",
      "Precision 0.6641221374045801\n",
      "Recall 0.20518867924528303\n",
      "CPU times: user 358 ms, sys: 579 ms, total: 937 ms\n",
      "Wall time: 895 ms\n"
     ]
    }
   ],
   "source": [
    "%%time\n",
    "\n",
    "model = LogisticRegression(random_state=12345, solver='lbfgs', max_iter=1000)\n",
    "model.fit(features_train, target_train)\n",
    "\n",
    "prediction_valid = pd.Series(model.predict(features_valid))\n",
    "f1_valid = f1_score(target_valid, prediction_valid)\n",
    "\n",
    "probab_valid = model.predict_proba(features_valid) \n",
    "probab_valid_one = probab_valid[:, 1]\n",
    "roc_auc_valid = roc_auc_score(target_valid, probab_valid_one)\n",
    "accuracy = accuracy_score(target_valid, prediction_valid)\n",
    "precision = precision_score(target_valid, prediction_valid)\n",
    "recall = recall_score(target_valid, prediction_valid)\n",
    "\n",
    "print(\"F1-мера модели 'логистическая регрессия' на валидационной выборке:\", f1_valid)\n",
    "print(\"AUC-ROC модели 'логистическая регрессия' на валидационной выборке:\", roc_auc_valid)\n",
    "print('Точность попадания по классам', accuracy)\n",
    "print('Precision', precision)\n",
    "print('Recall', recall)"
   ]
  },
  {
   "cell_type": "markdown",
   "metadata": {},
   "source": [
    "Построение ROC-кривых для полученных моделей."
   ]
  },
  {
   "cell_type": "code",
   "execution_count": 32,
   "metadata": {},
   "outputs": [
    {
     "name": "stdout",
     "output_type": "stream",
     "text": [
      "AUC-ROC DecisionTreeClassifier 0.816397645101044\n",
      "AUC-ROC RandomForestClassifier 0.8584763492481563\n",
      "AUC-ROC LogisticRegression 0.775763815726463\n"
     ]
    },
    {
     "data": {
      "text/plain": [
       "<function matplotlib.pyplot.show(close=None, block=None)>"
      ]
     },
     "execution_count": 32,
     "metadata": {},
     "output_type": "execute_result"
    },
    {
     "data": {
      "image/png": "[encoded data removed]",
      "text/plain": [
       "<Figure size 864x648 with 1 Axes>"
      ]
     },
     "metadata": {
      "needs_background": "light"
     },
     "output_type": "display_data"
    }
   ],
   "source": [
    "plt.figure(figsize=[12,9])\n",
    "\n",
    "plt.plot([0, 1], [0, 1], linestyle='--', label='RandomModel')\n",
    "\n",
    "\n",
    "model = DecisionTreeClassifier(random_state=12345, max_depth=8)\n",
    "model.fit(features_train, target_train)\n",
    "probabilities_valid = model.predict_proba(features_valid)\n",
    "probabilities_one_valid = probabilities_valid[:, 1]\n",
    "fpr, tpr, thresholds = roc_curve(target_valid, probabilities_one_valid)\n",
    "auc_roc = roc_auc_score(target_valid, probabilities_one_valid)\n",
    "print('AUC-ROC DecisionTreeClassifier',auc_roc)\n",
    "plt.plot(fpr, tpr, label='DecisionTreeClassifier')\n",
    "\n",
    "model = RandomForestClassifier(random_state=12345, n_estimators=16, max_depth= 10)\n",
    "model.fit(features_train, target_train)\n",
    "probabilities_valid = model.predict_proba(features_valid)\n",
    "probabilities_one_valid = probabilities_valid[:, 1]\n",
    "fpr, tpr, thresholds = roc_curve(target_valid, probabilities_one_valid)\n",
    "auc_roc = roc_auc_score(target_valid, probabilities_one_valid)\n",
    "print('AUC-ROC RandomForestClassifier',auc_roc)\n",
    "plt.plot(fpr, tpr, label='RandomForestClassifier')\n",
    "\n",
    "model = LogisticRegression(random_state=12345, solver='liblinear')\n",
    "model.fit(features_train, target_train)\n",
    "probabilities_valid = model.predict_proba(features_valid)\n",
    "probabilities_one_valid = probabilities_valid[:, 1]\n",
    "fpr, tpr, thresholds = roc_curve(target_valid, probabilities_one_valid)\n",
    "auc_roc = roc_auc_score(target_valid, probabilities_one_valid)\n",
    "print('AUC-ROC LogisticRegression',auc_roc)\n",
    "plt.plot(fpr, tpr, label='LogisticRegression')\n",
    "\n",
    "\n",
    "\n",
    "plt.xlim([0,1])\n",
    "plt.ylim([0,1])\n",
    "\n",
    "plt.xlabel(\"False Positive Rate\")\n",
    "plt.ylabel(\"True Positive Rate\")\n",
    "\n",
    "plt.legend(loc='lower right', fontsize='x-large')\n",
    "\n",
    "plt.title(\"ROC-кривая\")\n",
    "plt.show"
   ]
  },
  {
   "cell_type": "markdown",
   "metadata": {},
   "source": [
    "Без учёта дисбаланса наибольшее значение F1 наблюдается в моделях дерево решений и случайный лес - 0.56 и 0.55 соответственно. F1 недостаточная, далее будут рассмотрены вопросы решения проблемы дисбаланса классов."
   ]
  },
  {
   "cell_type": "markdown",
   "metadata": {},
   "source": [
    "## Решение проблемы дисбаланса классов"
   ]
  },
  {
   "cell_type": "markdown",
   "metadata": {},
   "source": [
    "### Увеличение класса выборки"
   ]
  },
  {
   "cell_type": "code",
   "execution_count": 33,
   "metadata": {},
   "outputs": [],
   "source": [
    "def upsample(features, target, repeat):\n",
    "    features_zeros = features[target == 0]\n",
    "    features_ones = features[target == 1]\n",
    "    target_zeros = target[target == 0]\n",
    "    target_ones = target[target == 1]\n",
    "    \n",
    "    features_upsampled = pd.concat([features_zeros] + [features_ones] * repeat)\n",
    "    target_upsampled = pd.concat([target_zeros] + [target_ones] * repeat)\n",
    "    \n",
    "    features_upsampled, target_upsampled = shuffle(features_upsampled, target_upsampled, random_state=12345)\n",
    "    \n",
    "    return features_upsampled, target_upsampled\n",
    "\n",
    "\n",
    "features_upsampled, target_upsampled = upsample(features_train, target_train, 4)"
   ]
  },
  {
   "cell_type": "markdown",
   "metadata": {},
   "source": [
    "Проверка решающего дерева."
   ]
  },
  {
   "cell_type": "code",
   "execution_count": 34,
   "metadata": {},
   "outputs": [
    {
     "name": "stdout",
     "output_type": "stream",
     "text": [
      "Решающее дерево\n",
      "Точность попадания по классам 0.7755\n",
      "Precision 0.48031496062992124\n",
      "Recall 0.7193396226415094\n",
      "F1 0.5760151085930122\n",
      "AUC-ROC = 0.820827297433196\n"
     ]
    }
   ],
   "source": [
    "model = DecisionTreeClassifier(random_state=12345, max_depth=8)\n",
    "model.fit(features_upsampled, target_upsampled)\n",
    "predicted_valid = model.predict(features_valid)\n",
    "print('Решающее дерево')\n",
    "print('Точность попадания по классам', accuracy_score(target_valid, predicted_valid))\n",
    "print('Precision', precision_score(target_valid, predicted_valid))\n",
    "print('Recall', recall_score(target_valid, predicted_valid))\n",
    "print('F1', f1_score(target_valid, predicted_valid))\n",
    "print('AUC-ROC =', roc_auc_score(target_valid, model.predict_proba(features_valid)[:,1]))"
   ]
  },
  {
   "cell_type": "markdown",
   "metadata": {},
   "source": [
    "Проверка случайного леса."
   ]
  },
  {
   "cell_type": "code",
   "execution_count": 35,
   "metadata": {},
   "outputs": [
    {
     "name": "stdout",
     "output_type": "stream",
     "text": [
      "Случайный лес\n",
      "Точность попадания по классам 0.824\n",
      "Precision 0.5746887966804979\n",
      "Recall 0.6533018867924528\n",
      "F1 0.6114790286975716\n",
      "AUC-ROC = 0.8584613842064936\n"
     ]
    }
   ],
   "source": [
    "model = RandomForestClassifier(random_state=12345, n_estimators=16, max_depth= 10)\n",
    "model.fit(features_upsampled, target_upsampled)\n",
    "predicted_valid = model.predict(features_valid)\n",
    "print('Случайный лес')\n",
    "print('Точность попадания по классам', accuracy_score(target_valid, predicted_valid))\n",
    "print('Precision', precision_score(target_valid, predicted_valid))\n",
    "print('Recall', recall_score(target_valid, predicted_valid))\n",
    "print('F1', f1_score(target_valid, predicted_valid))\n",
    "print('AUC-ROC =', roc_auc_score(target_valid, model.predict_proba(features_valid)[:,1]))"
   ]
  },
  {
   "cell_type": "markdown",
   "metadata": {},
   "source": [
    "Проверка логистической регрессии."
   ]
  },
  {
   "cell_type": "code",
   "execution_count": 36,
   "metadata": {},
   "outputs": [
    {
     "name": "stdout",
     "output_type": "stream",
     "text": [
      "Логистическая регрессия\n",
      "Точность попадания по классам 0.7055\n",
      "Precision 0.38926174496644295\n",
      "Recall 0.6839622641509434\n",
      "F1 0.49615055603079555\n",
      "AUC-ROC = 0.7792057753088785\n"
     ]
    }
   ],
   "source": [
    "model = LogisticRegression(random_state=12345, solver='liblinear')\n",
    "model.fit(features_upsampled, target_upsampled)\n",
    "predicted_valid = model.predict(features_valid)\n",
    "print('Логистическая регрессия')\n",
    "print('Точность попадания по классам', accuracy_score(target_valid, predicted_valid))\n",
    "print('Precision', precision_score(target_valid, predicted_valid))\n",
    "print('Recall', recall_score(target_valid, predicted_valid))\n",
    "print('F1', f1_score(target_valid, predicted_valid))\n",
    "print('AUC-ROC =', roc_auc_score(target_valid, model.predict_proba(features_valid)[:,1]))"
   ]
  },
  {
   "cell_type": "markdown",
   "metadata": {},
   "source": [
    "Увеличение класса выборки привело к увеличению точности моделей. Вырос показатель F1 и AUC-ROC. Наибольшие показатели у модели случайного леса F1 - 0,61 AUC-ROC - 0,858."
   ]
  },
  {
   "cell_type": "markdown",
   "metadata": {},
   "source": [
    "### Уменьшение класса выборки"
   ]
  },
  {
   "cell_type": "code",
   "execution_count": 37,
   "metadata": {},
   "outputs": [],
   "source": [
    "def downsample(features, target, fraction):\n",
    "    features_zeros = features[target == 0]\n",
    "    features_ones = features[target == 1]\n",
    "    target_zeros = target[target == 0]\n",
    "    target_ones = target[target == 1]\n",
    "\n",
    "    features_downsampled = pd.concat([features_zeros.sample(frac=fraction, random_state=12345)] + [features_ones])\n",
    "    target_downsampled = pd.concat([target_zeros.sample(frac=fraction, random_state=12345)] + [target_ones])\n",
    "    \n",
    "    features_downsampled, target_downsampled = shuffle(features_downsampled, target_downsampled, random_state=12345)\n",
    "    \n",
    "    return features_downsampled, target_downsampled\n",
    "\n",
    "features_downsampled, target_downsampled = downsample(features_train, target_train, 0.25)"
   ]
  },
  {
   "cell_type": "markdown",
   "metadata": {},
   "source": [
    "\n",
    "<div class=\"alert alert-block alert-success\">\n",
    "    \n",
    "<b>Успех:</b> Выбран правильный `fraction`\n",
    "</div>\n"
   ]
  },
  {
   "cell_type": "markdown",
   "metadata": {},
   "source": [
    "Проверка решающего дерева."
   ]
  },
  {
   "cell_type": "code",
   "execution_count": 38,
   "metadata": {},
   "outputs": [
    {
     "name": "stdout",
     "output_type": "stream",
     "text": [
      "Решающее дерево\n",
      "Точность попадания по классам 0.77\n",
      "Precision 0.4704918032786885\n",
      "Recall 0.6768867924528302\n",
      "F1 0.5551257253384912\n",
      "AUC-ROC = 0.7855696592759314\n"
     ]
    }
   ],
   "source": [
    "model = DecisionTreeClassifier(random_state=12345, max_depth=8)\n",
    "model.fit(features_downsampled, target_downsampled)\n",
    "predicted_valid = model.predict(features_valid)\n",
    "print('Решающее дерево')\n",
    "print('Точность попадания по классам', accuracy_score(target_valid, predicted_valid))\n",
    "print('Precision', precision_score(target_valid, predicted_valid))\n",
    "print('Recall', recall_score(target_valid, predicted_valid))\n",
    "print('F1', f1_score(target_valid, predicted_valid))\n",
    "print('AUC-ROC =', roc_auc_score(target_valid, model.predict_proba(features_valid)[:,1]))"
   ]
  },
  {
   "cell_type": "markdown",
   "metadata": {},
   "source": [
    "Проверка случайного леса."
   ]
  },
  {
   "cell_type": "code",
   "execution_count": 39,
   "metadata": {},
   "outputs": [
    {
     "name": "stdout",
     "output_type": "stream",
     "text": [
      "Случайный лес\n",
      "Точность попадания по классам 0.787\n",
      "Precision 0.4984025559105431\n",
      "Recall 0.7358490566037735\n",
      "F1 0.5942857142857143\n",
      "AUC-ROC = 0.8535850253807106\n"
     ]
    }
   ],
   "source": [
    "model = RandomForestClassifier(random_state=12345, n_estimators=16, max_depth=10)\n",
    "model.fit(features_downsampled, target_downsampled)\n",
    "predicted_valid = model.predict(features_valid)\n",
    "print('Случайный лес')\n",
    "print('Точность попадания по классам', accuracy_score(target_valid, predicted_valid))\n",
    "print('Precision', precision_score(target_valid, predicted_valid))\n",
    "print('Recall', recall_score(target_valid, predicted_valid))\n",
    "print('F1', f1_score(target_valid, predicted_valid))\n",
    "print('AUC-ROC =', roc_auc_score(target_valid, model.predict_proba(features_valid)[:,1]))"
   ]
  },
  {
   "cell_type": "markdown",
   "metadata": {},
   "source": [
    "Проверка логистической регрессии."
   ]
  },
  {
   "cell_type": "code",
   "execution_count": 40,
   "metadata": {},
   "outputs": [
    {
     "name": "stdout",
     "output_type": "stream",
     "text": [
      "Логистическая регрессия\n",
      "Точность попадания по классам 0.706\n",
      "Precision 0.39210526315789473\n",
      "Recall 0.7028301886792453\n",
      "F1 0.5033783783783783\n",
      "AUC-ROC = 0.7768233406761805\n"
     ]
    }
   ],
   "source": [
    "model = LogisticRegression(random_state=12345, solver='liblinear')\n",
    "model.fit(features_downsampled, target_downsampled)\n",
    "predicted_valid = model.predict(features_valid)\n",
    "print('Логистическая регрессия')\n",
    "print('Точность попадания по классам', accuracy_score(target_valid, predicted_valid))\n",
    "print('Precision', precision_score(target_valid, predicted_valid))\n",
    "print('Recall', recall_score(target_valid, predicted_valid))\n",
    "print('F1', f1_score(target_valid, predicted_valid))\n",
    "print('AUC-ROC =', roc_auc_score(target_valid, model.predict_proba(features_valid)[:,1]))"
   ]
  },
  {
   "cell_type": "markdown",
   "metadata": {},
   "source": [
    "Построение ROC-кривых для полученных моделей с уменьшением класса выборки."
   ]
  },
  {
   "cell_type": "code",
   "execution_count": 41,
   "metadata": {},
   "outputs": [
    {
     "name": "stdout",
     "output_type": "stream",
     "text": [
      "AUC-ROC DecisionTreeClassifier 0.7855696592759314\n",
      "AUC-ROC RandomForestClassifier 0.8535850253807106\n",
      "AUC-ROC LogisticRegression 0.7768233406761805\n"
     ]
    },
    {
     "data": {
      "text/plain": [
       "<function matplotlib.pyplot.show(close=None, block=None)>"
      ]
     },
     "execution_count": 41,
     "metadata": {},
     "output_type": "execute_result"
    },
    {
     "data": {
      "image/png": "[encoded data removed]",
      "text/plain": [
       "<Figure size 864x648 with 1 Axes>"
      ]
     },
     "metadata": {
      "needs_background": "light"
     },
     "output_type": "display_data"
    }
   ],
   "source": [
    "plt.figure(figsize=[12,9])\n",
    "\n",
    "plt.plot([0, 1], [0, 1], linestyle='--', label='RandomModel')\n",
    "\n",
    "\n",
    "model = DecisionTreeClassifier(random_state=12345, max_depth=8)\n",
    "model.fit(features_downsampled, target_downsampled)\n",
    "probabilities_valid = model.predict_proba(features_valid)\n",
    "probabilities_one_valid = probabilities_valid[:, 1]\n",
    "fpr, tpr, thresholds = roc_curve(target_valid, probabilities_one_valid)\n",
    "auc_roc = roc_auc_score(target_valid, probabilities_one_valid)\n",
    "print('AUC-ROC DecisionTreeClassifier',auc_roc)\n",
    "plt.plot(fpr, tpr, label='DecisionTreeClassifier')\n",
    "\n",
    "model = RandomForestClassifier(random_state=12345, n_estimators=16, max_depth = 10)\n",
    "model.fit(features_downsampled, target_downsampled)\n",
    "probabilities_valid = model.predict_proba(features_valid)\n",
    "probabilities_one_valid = probabilities_valid[:, 1]\n",
    "fpr, tpr, thresholds = roc_curve(target_valid, probabilities_one_valid)\n",
    "auc_roc = roc_auc_score(target_valid, probabilities_one_valid)\n",
    "print('AUC-ROC RandomForestClassifier',auc_roc)\n",
    "plt.plot(fpr, tpr, label='RandomForestClassifier')\n",
    "\n",
    "model = LogisticRegression(random_state=12345, solver='liblinear')\n",
    "model.fit(features_downsampled, target_downsampled)\n",
    "probabilities_valid = model.predict_proba(features_valid)\n",
    "probabilities_one_valid = probabilities_valid[:, 1]\n",
    "fpr, tpr, thresholds = roc_curve(target_valid, probabilities_one_valid)\n",
    "auc_roc = roc_auc_score(target_valid, probabilities_one_valid)\n",
    "print('AUC-ROC LogisticRegression',auc_roc)\n",
    "plt.plot(fpr, tpr, label='LogisticRegression')\n",
    "\n",
    "\n",
    "\n",
    "plt.xlim([0,1])\n",
    "plt.ylim([0,1])\n",
    "\n",
    "plt.xlabel(\"False Positive Rate\")\n",
    "plt.ylabel(\"True Positive Rate\")\n",
    "\n",
    "plt.legend(loc='lower right', fontsize='x-large')\n",
    "\n",
    "plt.title(\"ROC-кривая\")\n",
    "plt.show"
   ]
  },
  {
   "cell_type": "markdown",
   "metadata": {},
   "source": [
    "Построение ROC-кривых для полученных моделей с увеличением класса выборки."
   ]
  },
  {
   "cell_type": "code",
   "execution_count": 42,
   "metadata": {},
   "outputs": [
    {
     "name": "stdout",
     "output_type": "stream",
     "text": [
      "AUC-ROC DecisionTreeClassifier 0.820827297433196\n",
      "AUC-ROC RandomForestClassifier 0.8535850253807106\n",
      "AUC-ROC LogisticRegression 0.7768233406761805\n"
     ]
    },
    {
     "data": {
      "text/plain": [
       "<function matplotlib.pyplot.show(close=None, block=None)>"
      ]
     },
     "execution_count": 42,
     "metadata": {},
     "output_type": "execute_result"
    },
    {
     "data": {
      "image/png": "[encoded data removed]",
      "text/plain": [
       "<Figure size 864x648 with 1 Axes>"
      ]
     },
     "metadata": {
      "needs_background": "light"
     },
     "output_type": "display_data"
    }
   ],
   "source": [
    "plt.figure(figsize=[12,9])\n",
    "\n",
    "plt.plot([0, 1], [0, 1], linestyle='--', label='RandomModel')\n",
    "\n",
    "\n",
    "model = DecisionTreeClassifier(random_state=12345, max_depth=8)\n",
    "model.fit(features_upsampled, target_upsampled)\n",
    "probabilities_valid = model.predict_proba(features_valid)\n",
    "probabilities_one_valid = probabilities_valid[:, 1]\n",
    "fpr, tpr, thresholds = roc_curve(target_valid, probabilities_one_valid)\n",
    "auc_roc = roc_auc_score(target_valid, probabilities_one_valid)\n",
    "print('AUC-ROC DecisionTreeClassifier',auc_roc)\n",
    "plt.plot(fpr, tpr, label='DecisionTreeClassifier')\n",
    "\n",
    "model = RandomForestClassifier(random_state=12345, n_estimators=16, max_depth = 10)\n",
    "model.fit(features_downsampled, target_downsampled)\n",
    "probabilities_valid = model.predict_proba(features_valid)\n",
    "probabilities_one_valid = probabilities_valid[:, 1]\n",
    "fpr, tpr, thresholds = roc_curve(target_valid, probabilities_one_valid)\n",
    "auc_roc = roc_auc_score(target_valid, probabilities_one_valid)\n",
    "print('AUC-ROC RandomForestClassifier',auc_roc)\n",
    "plt.plot(fpr, tpr, label='RandomForestClassifier')\n",
    "\n",
    "model = LogisticRegression(random_state=12345, solver='liblinear')\n",
    "model.fit(features_downsampled, target_downsampled)\n",
    "probabilities_valid = model.predict_proba(features_valid)\n",
    "probabilities_one_valid = probabilities_valid[:, 1]\n",
    "fpr, tpr, thresholds = roc_curve(target_valid, probabilities_one_valid)\n",
    "auc_roc = roc_auc_score(target_valid, probabilities_one_valid)\n",
    "print('AUC-ROC LogisticRegression',auc_roc)\n",
    "plt.plot(fpr, tpr, label='LogisticRegression')\n",
    "\n",
    "\n",
    "\n",
    "plt.xlim([0,1])\n",
    "plt.ylim([0,1])\n",
    "\n",
    "plt.xlabel(\"False Positive Rate\")\n",
    "plt.ylabel(\"True Positive Rate\")\n",
    "\n",
    "plt.legend(loc='lower right', fontsize='x-large')\n",
    "\n",
    "plt.title(\"ROC-кривая\")\n",
    "plt.show"
   ]
  },
  {
   "cell_type": "markdown",
   "metadata": {},
   "source": [
    "Уменьшение класса выборки также привело к увеличению точности моделей. Вырос показатель F1 и AUC-ROC. Наибольшие показатели у модели случайного леса при увеличении выборки F1 - 0,61 AUC-ROC - 0,858, что также подтверждается графиком ROC-кривой."
   ]
  },
  {
   "cell_type": "code",
   "execution_count": 43,
   "metadata": {},
   "outputs": [],
   "source": [
    "def all_models_share(features_train, target_train, features_valid, target_valid):\n",
    "    model_DTC = DecisionTreeClassifier(random_state=123)\n",
    "    model_DTC.fit(features_train, target_train)\n",
    "    DTC_share = pd.Series(model_DTC.predict(features_valid)).value_counts(normalize = 1)\n",
    "    \n",
    "    \n",
    "    \n",
    "    model_RFC = RandomForestClassifier(random_state=12345, n_estimators = 100)\n",
    "    model_RFC.fit(features_train, target_train)\n",
    "    RFC_share = pd.Series(model_RFC.predict(features_valid)).value_counts(normalize = 1)\n",
    "    \n",
    "    model_LgR = LogisticRegression(solver = 'liblinear')\n",
    "    model_LgR.fit(features_train, target_train)\n",
    "    LgR_share = pd.Series(model_LgR.predict(features_valid)).value_counts(normalize = 1)\n",
    "    \n",
    "\n",
    "    \n",
    "    print(\"Доли ответов:\" \"дерево решений\", DTC_share, \"случайный лес \", RFC_share, \"логистческая регрессия\", LgR_share , end='')"
   ]
  },
  {
   "cell_type": "code",
   "execution_count": 44,
   "metadata": {},
   "outputs": [
    {
     "name": "stdout",
     "output_type": "stream",
     "text": [
      "Доли ответов:дерево решений 0    0.803\n",
      "1    0.197\n",
      "dtype: float64 случайный лес  0    0.885\n",
      "1    0.115\n",
      "dtype: float64 логистческая регрессия 0    0.9345\n",
      "1    0.0655\n",
      "dtype: float64"
     ]
    }
   ],
   "source": [
    "all_models_share(features_train, target_train, features_valid, target_valid)"
   ]
  },
  {
   "cell_type": "markdown",
   "metadata": {},
   "source": [
    "## Тестирование модели"
   ]
  },
  {
   "cell_type": "markdown",
   "metadata": {},
   "source": [
    "Объединим для обучения данные train и valid."
   ]
  },
  {
   "cell_type": "code",
   "execution_count": 45,
   "metadata": {},
   "outputs": [],
   "source": [
    "features_train_valid = pd.concat([features_train] + [features_valid])\n",
    "target_train_valid = pd.concat([target_train] + [target_valid])"
   ]
  },
  {
   "cell_type": "markdown",
   "metadata": {},
   "source": [
    "Применим upsampling к объединенной выборке."
   ]
  },
  {
   "cell_type": "code",
   "execution_count": 46,
   "metadata": {},
   "outputs": [],
   "source": [
    "\n",
    "features_upsampled, target_upsampled = upsample(features_train_valid, target_train_valid, 4)"
   ]
  },
  {
   "cell_type": "code",
   "execution_count": 47,
   "metadata": {},
   "outputs": [
    {
     "data": {
      "text/plain": [
       "RandomForestClassifier(class_weight='balanced', max_depth=10, n_estimators=16,\n",
       "                       random_state=12345)"
      ]
     },
     "execution_count": 47,
     "metadata": {},
     "output_type": "execute_result"
    }
   ],
   "source": [
    "model_rfc_test = RandomForestClassifier(class_weight='balanced', max_depth=10, n_estimators=16,\n",
    "                       random_state=12345)\n",
    "model_rfc_test.fit(features_upsampled, target_upsampled)\n"
   ]
  },
  {
   "cell_type": "code",
   "execution_count": 48,
   "metadata": {},
   "outputs": [
    {
     "name": "stdout",
     "output_type": "stream",
     "text": [
      "F1 = 0.6168831168831169\n",
      "AUC-ROC = 0.8595490714134782\n"
     ]
    }
   ],
   "source": [
    "\n",
    "predictions_rfc_test = model_rfc_test.predict(features_test)\n",
    "\n",
    "print('F1 =', f1_score(target_test, predictions_rfc_test))\n",
    "print('AUC-ROC =', roc_auc_score(target_test, model_rfc_test.predict_proba(features_test)[:,1]))"
   ]
  },
  {
   "cell_type": "markdown",
   "metadata": {},
   "source": [
    "Создадим константную модель."
   ]
  },
  {
   "cell_type": "code",
   "execution_count": 49,
   "metadata": {},
   "outputs": [
    {
     "data": {
      "text/plain": [
       "1    2000\n",
       "dtype: int64"
      ]
     },
     "execution_count": 49,
     "metadata": {},
     "output_type": "execute_result"
    }
   ],
   "source": [
    "\n",
    "target_predict_constant = pd.Series([1]*len(target_test))\n",
    "target_predict_constant.value_counts()"
   ]
  },
  {
   "cell_type": "code",
   "execution_count": 50,
   "metadata": {},
   "outputs": [
    {
     "name": "stdout",
     "output_type": "stream",
     "text": [
      "accuracy_score константой модели: 0.212\n",
      "accuracy_score финальной модели: 0.823\n",
      "f1 константой модели: 0.34983498349834985\n",
      "f1 финальной модели: 0.6168831168831169\n"
     ]
    }
   ],
   "source": [
    "print('accuracy_score константой модели:', accuracy_score(target_valid, target_predict_constant))\n",
    "print('accuracy_score финальной модели:', accuracy_score(target_test, predictions_rfc_test))\n",
    "print('f1 константой модели:', f1_score(target_valid, target_predict_constant))\n",
    "print('f1 финальной модели:', f1_score(target_test, predictions_rfc_test))\n"
   ]
  },
  {
   "cell_type": "markdown",
   "metadata": {},
   "source": [
    "Сравним AUC-ROC — единственный параметр подающийся сравнению, потому что константная подель содержит только негативные ответы."
   ]
  },
  {
   "cell_type": "code",
   "execution_count": 51,
   "metadata": {
    "scrolled": true
   },
   "outputs": [
    {
     "name": "stdout",
     "output_type": "stream",
     "text": [
      "AUC-ROC константой модели: 0.5\n",
      "AUC-ROC финальной модели: 0.8595490714134782\n"
     ]
    }
   ],
   "source": [
    "print('AUC-ROC константой модели:', roc_auc_score(target_valid, target_predict_constant))\n",
    "print('AUC-ROC финальной модели:', roc_auc_score(target_test, model_rfc_test.predict_proba(features_test)[:,1]))"
   ]
  },
  {
   "cell_type": "markdown",
   "metadata": {},
   "source": [
    "Финальная модель показывает результаты лучше, чем константная модель — модель можно считать адекватной."
   ]
  },
  {
   "cell_type": "markdown",
   "metadata": {},
   "source": [
    "## Выводы по работе"
   ]
  },
  {
   "cell_type": "markdown",
   "metadata": {},
   "source": [
    "Был рассмотрен датасет с данными клиентов банка. В датасете 10000 объектов,которые оторые содержат такие показатели, как возраст, количество средств, активность, зарплата, а также фиксируется факт ухода клиента из банка. Имевшиеся пропуски в колонке Tenure были заполнены медианным значением, а также изменен тип данных на int, явных дубликатов нет в данных нет. Удалены из датасета след.колонки RowNumber, CustomerId, Surname. Наименования колонок приведены к принятому стилю.\n",
    "\n",
    "В первоначальные данных наблюдался значительный дисбаланс (80% ответов целевого признака были негативными и только 20% позитивными), из-за чего обученная на этих данных модель не проходила проверку на адекватность. Все модели не первоначальных данных характеризовались высокой степенью ошибок и низким качеством взвешенной величины (F1) — модели показывали низкие результаты точности и полноты.\n",
    "\n",
    "Был устранен дисбаланс классов путем увеличения количества значений позитивного класса в 4 раза. \n",
    "\n",
    "Были применены варианты борьбы с дисбалансом классов upsampling и downsampling.\n",
    "\n",
    "На новых данных все модели показали результат выше, чем на несбалансированной выборке. Лучшие показатели были у модели случайного леса при увеличении выборки F1 - 0,61 AUC-ROC - 0,858, что также подтверждается графиком ROC-кривой:\n",
    "\n",
    "Precision 0.5746887966804979\n",
    "Recall 0.6533018867924528\n",
    "F1 0.6114790286975716\n",
    "AUC-ROC = 0.8584613842064936\n",
    "\n",
    "Финальная модель прошла проверку на адекватность в сравнении с контантной моделью:\n",
    "\n",
    "accuracy_score константой модели: 0.788\n",
    "accuracy_score финальной модели: 0.823\n",
    "AUC-ROC константой модели: 0.5\n",
    "AUC-ROC финальной модели: 0.8595490714134782\n",
    "\n",
    "Соответственно, модель случайного леса, обкченная на сбалансированной выборке может быть использована для определения потенциальных клиентов, которые собираются \"покинуть\" банк. Модель характеризуется нормальным показателем полноты = 0.65 (min = 0, max = 1), поэтому она с высокой вероятностью предскажит уход клиента из банка. Но необходимо отметить, что точность модели немногоим более 50, поэтому многие клиенты будут восприняты ошибочно, как собирающиеся разорвать отношения с банком. Это надо учитывать при подборе индивидуальных предложений для клиентов."
   ]
  },
  {
   "cell_type": "markdown",
   "metadata": {},
   "source": [
    "## Чек-лист готовности проекта"
   ]
  },
  {
   "cell_type": "markdown",
   "metadata": {},
   "source": [
    "Поставьте 'x' в выполненных пунктах. Далее нажмите Shift+Enter."
   ]
  },
  {
   "cell_type": "markdown",
   "metadata": {},
   "source": [
    "- [x]  Jupyter Notebook открыт\n",
    "- [ ]  Весь код выполняется без ошибок\n",
    "- [ ]  Ячейки с кодом расположены в порядке исполнения\n",
    "- [ ]  Выполнен шаг 1: данные подготовлены\n",
    "- [ ]  Выполнен шаг 2: задача исследована\n",
    "    - [ ]  Исследован баланс классов\n",
    "    - [ ]  Изучены модели без учёта дисбаланса\n",
    "    - [ ]  Написаны выводы по результатам исследования\n",
    "- [ ]  Выполнен шаг 3: учтён дисбаланс\n",
    "    - [ ]  Применено несколько способов борьбы с дисбалансом\n",
    "    - [ ]  Написаны выводы по результатам исследования\n",
    "- [ ]  Выполнен шаг 4: проведено тестирование\n",
    "- [ ]  Удалось достичь *F1*-меры не менее 0.59\n",
    "- [ ]  Исследована метрика *AUC-ROC*"
   ]
  },
  {
   "cell_type": "code",
   "execution_count": null,
   "metadata": {},
   "outputs": [],
   "source": []
  }
 ],
 "metadata": {
  "ExecuteTimeLog": [
   {
    "duration": 1932,
    "start_time": "2023-10-05T06:51:20.964Z"
   },
   {
    "duration": 86,
    "start_time": "2023-10-05T06:51:23.533Z"
   },
   {
    "duration": 20,
    "start_time": "2023-10-05T06:51:33.494Z"
   },
   {
    "duration": 15,
    "start_time": "2023-10-05T06:51:54.044Z"
   },
   {
    "duration": 13,
    "start_time": "2023-10-05T06:52:31.046Z"
   },
   {
    "duration": 46,
    "start_time": "2023-10-05T06:52:40.196Z"
   },
   {
    "duration": 13,
    "start_time": "2023-10-05T06:53:43.768Z"
   },
   {
    "duration": 9,
    "start_time": "2023-10-05T07:01:55.774Z"
   },
   {
    "duration": 38597,
    "start_time": "2023-10-05T07:05:34.927Z"
   },
   {
    "duration": 16,
    "start_time": "2023-10-05T07:06:32.146Z"
   },
   {
    "duration": 6,
    "start_time": "2023-10-05T07:07:13.235Z"
   },
   {
    "duration": 5,
    "start_time": "2023-10-05T07:08:22.954Z"
   },
   {
    "duration": 6,
    "start_time": "2023-10-05T07:10:54.598Z"
   },
   {
    "duration": 132,
    "start_time": "2023-10-05T07:12:14.425Z"
   },
   {
    "duration": 13,
    "start_time": "2023-10-05T07:12:14.692Z"
   },
   {
    "duration": 89,
    "start_time": "2023-10-05T07:12:57.527Z"
   },
   {
    "duration": 3879,
    "start_time": "2023-10-05T07:13:13.009Z"
   },
   {
    "duration": 24,
    "start_time": "2023-10-05T07:13:16.890Z"
   },
   {
    "duration": 0,
    "start_time": "2023-10-05T07:13:16.917Z"
   },
   {
    "duration": 0,
    "start_time": "2023-10-05T07:13:16.918Z"
   },
   {
    "duration": 0,
    "start_time": "2023-10-05T07:13:16.920Z"
   },
   {
    "duration": 0,
    "start_time": "2023-10-05T07:13:16.922Z"
   },
   {
    "duration": 12,
    "start_time": "2023-10-05T07:13:17.073Z"
   },
   {
    "duration": 94,
    "start_time": "2023-10-05T07:13:17.127Z"
   },
   {
    "duration": 44,
    "start_time": "2023-10-05T07:13:17.224Z"
   },
   {
    "duration": 29,
    "start_time": "2023-10-05T07:13:17.271Z"
   },
   {
    "duration": 40,
    "start_time": "2023-10-05T07:13:17.302Z"
   },
   {
    "duration": 0,
    "start_time": "2023-10-05T07:13:17.343Z"
   },
   {
    "duration": 17,
    "start_time": "2023-10-05T07:13:17.362Z"
   },
   {
    "duration": 58,
    "start_time": "2023-10-05T07:13:41.993Z"
   },
   {
    "duration": 22,
    "start_time": "2023-10-05T07:13:42.934Z"
   },
   {
    "duration": 19,
    "start_time": "2023-10-05T07:13:43.655Z"
   },
   {
    "duration": 50,
    "start_time": "2023-10-05T07:13:44.253Z"
   },
   {
    "duration": 12,
    "start_time": "2023-10-05T07:13:44.792Z"
   },
   {
    "duration": 11,
    "start_time": "2023-10-05T07:13:45.382Z"
   },
   {
    "duration": 12,
    "start_time": "2023-10-05T07:13:45.633Z"
   },
   {
    "duration": 5,
    "start_time": "2023-10-05T07:13:46.382Z"
   },
   {
    "duration": 5,
    "start_time": "2023-10-05T07:13:47.439Z"
   },
   {
    "duration": 9,
    "start_time": "2023-10-05T07:13:49.933Z"
   },
   {
    "duration": 13,
    "start_time": "2023-10-05T07:13:51.454Z"
   },
   {
    "duration": 22,
    "start_time": "2023-10-05T07:14:14.112Z"
   },
   {
    "duration": 89,
    "start_time": "2023-10-05T07:14:47.336Z"
   },
   {
    "duration": 90,
    "start_time": "2023-10-05T07:14:54.076Z"
   },
   {
    "duration": 42,
    "start_time": "2023-10-05T07:15:14.762Z"
   },
   {
    "duration": 14,
    "start_time": "2023-10-05T07:15:15.083Z"
   },
   {
    "duration": 14,
    "start_time": "2023-10-05T07:15:16.644Z"
   },
   {
    "duration": 74,
    "start_time": "2023-10-05T07:15:16.660Z"
   },
   {
    "duration": 12,
    "start_time": "2023-10-05T07:15:16.736Z"
   },
   {
    "duration": 32,
    "start_time": "2023-10-05T07:15:16.749Z"
   },
   {
    "duration": 18,
    "start_time": "2023-10-05T07:15:16.783Z"
   },
   {
    "duration": 15,
    "start_time": "2023-10-05T07:15:16.803Z"
   },
   {
    "duration": 25,
    "start_time": "2023-10-05T07:15:16.821Z"
   },
   {
    "duration": 11,
    "start_time": "2023-10-05T07:15:17.853Z"
   },
   {
    "duration": 11,
    "start_time": "2023-10-05T07:15:18.792Z"
   },
   {
    "duration": 3206,
    "start_time": "2023-10-05T07:15:36.125Z"
   },
   {
    "duration": 21,
    "start_time": "2023-10-05T07:15:39.334Z"
   },
   {
    "duration": 12,
    "start_time": "2023-10-05T07:15:49.333Z"
   },
   {
    "duration": 4,
    "start_time": "2023-10-05T07:16:54.834Z"
   },
   {
    "duration": 5,
    "start_time": "2023-10-05T07:17:21.297Z"
   },
   {
    "duration": 14,
    "start_time": "2023-10-05T07:17:42.076Z"
   },
   {
    "duration": 14,
    "start_time": "2023-10-05T07:18:27.090Z"
   },
   {
    "duration": 44,
    "start_time": "2023-10-05T07:18:27.648Z"
   },
   {
    "duration": 14,
    "start_time": "2023-10-05T07:18:27.694Z"
   },
   {
    "duration": 40,
    "start_time": "2023-10-05T07:18:27.711Z"
   },
   {
    "duration": 55,
    "start_time": "2023-10-05T07:18:27.782Z"
   },
   {
    "duration": 12,
    "start_time": "2023-10-05T07:18:27.843Z"
   },
   {
    "duration": 9,
    "start_time": "2023-10-05T07:18:27.944Z"
   },
   {
    "duration": 11,
    "start_time": "2023-10-05T07:18:27.992Z"
   },
   {
    "duration": 6,
    "start_time": "2023-10-05T07:18:28.787Z"
   },
   {
    "duration": 7,
    "start_time": "2023-10-05T07:18:29.492Z"
   },
   {
    "duration": 10,
    "start_time": "2023-10-05T07:18:30.543Z"
   },
   {
    "duration": 3159,
    "start_time": "2023-10-05T07:19:16.341Z"
   },
   {
    "duration": 30,
    "start_time": "2023-10-05T07:19:19.503Z"
   },
   {
    "duration": 55,
    "start_time": "2023-10-05T07:19:29.387Z"
   },
   {
    "duration": 5,
    "start_time": "2023-10-05T07:30:31.826Z"
   },
   {
    "duration": 16,
    "start_time": "2023-10-05T07:30:32.922Z"
   },
   {
    "duration": 9,
    "start_time": "2023-10-05T07:31:02.182Z"
   },
   {
    "duration": 12,
    "start_time": "2023-10-05T07:31:07.435Z"
   },
   {
    "duration": 23,
    "start_time": "2023-10-05T07:31:08.119Z"
   },
   {
    "duration": 9,
    "start_time": "2023-10-05T07:32:57.180Z"
   },
   {
    "duration": 4,
    "start_time": "2023-10-05T07:33:01.133Z"
   },
   {
    "duration": 13,
    "start_time": "2023-10-05T07:37:53.631Z"
   },
   {
    "duration": 6,
    "start_time": "2023-10-05T07:38:08.300Z"
   },
   {
    "duration": 10,
    "start_time": "2023-10-05T07:43:45.336Z"
   },
   {
    "duration": 9,
    "start_time": "2023-10-05T07:45:22.351Z"
   },
   {
    "duration": 24,
    "start_time": "2023-10-05T07:46:41.501Z"
   },
   {
    "duration": 19,
    "start_time": "2023-10-05T07:47:59.002Z"
   },
   {
    "duration": 7,
    "start_time": "2023-10-05T07:48:20.421Z"
   },
   {
    "duration": 4,
    "start_time": "2023-10-05T07:53:29.844Z"
   },
   {
    "duration": 9,
    "start_time": "2023-10-05T07:53:48.976Z"
   },
   {
    "duration": 4,
    "start_time": "2023-10-05T07:53:52.365Z"
   },
   {
    "duration": 17,
    "start_time": "2023-10-05T07:54:01.253Z"
   },
   {
    "duration": 4,
    "start_time": "2023-10-05T07:54:09.774Z"
   },
   {
    "duration": 4,
    "start_time": "2023-10-05T07:55:20.625Z"
   },
   {
    "duration": 4,
    "start_time": "2023-10-05T07:55:21.124Z"
   },
   {
    "duration": 4,
    "start_time": "2023-10-05T07:55:21.573Z"
   },
   {
    "duration": 2,
    "start_time": "2023-10-05T08:00:51.472Z"
   },
   {
    "duration": 9,
    "start_time": "2023-10-05T08:01:30.223Z"
   },
   {
    "duration": 14,
    "start_time": "2023-10-05T08:02:33.728Z"
   },
   {
    "duration": 12,
    "start_time": "2023-10-05T08:05:29.530Z"
   },
   {
    "duration": 14,
    "start_time": "2023-10-05T08:05:43.140Z"
   },
   {
    "duration": 9,
    "start_time": "2023-10-05T08:06:01.750Z"
   },
   {
    "duration": 7,
    "start_time": "2023-10-05T08:13:07.311Z"
   },
   {
    "duration": 17,
    "start_time": "2023-10-05T08:13:21.605Z"
   },
   {
    "duration": 4,
    "start_time": "2023-10-05T08:13:45.515Z"
   },
   {
    "duration": 42,
    "start_time": "2023-10-05T08:13:47.036Z"
   },
   {
    "duration": 14,
    "start_time": "2023-10-05T08:13:47.585Z"
   },
   {
    "duration": 14,
    "start_time": "2023-10-05T08:13:47.620Z"
   },
   {
    "duration": 44,
    "start_time": "2023-10-05T08:13:47.685Z"
   },
   {
    "duration": 16,
    "start_time": "2023-10-05T08:13:47.757Z"
   },
   {
    "duration": 12,
    "start_time": "2023-10-05T08:13:47.827Z"
   },
   {
    "duration": 12,
    "start_time": "2023-10-05T08:13:47.855Z"
   },
   {
    "duration": 6,
    "start_time": "2023-10-05T08:13:47.929Z"
   },
   {
    "duration": 6,
    "start_time": "2023-10-05T08:13:47.975Z"
   },
   {
    "duration": 3,
    "start_time": "2023-10-05T08:13:48.096Z"
   },
   {
    "duration": 5,
    "start_time": "2023-10-05T08:13:48.160Z"
   },
   {
    "duration": 11,
    "start_time": "2023-10-05T08:13:48.185Z"
   },
   {
    "duration": 9,
    "start_time": "2023-10-05T08:13:48.267Z"
   },
   {
    "duration": 18,
    "start_time": "2023-10-05T08:13:48.335Z"
   },
   {
    "duration": 5,
    "start_time": "2023-10-05T08:13:48.356Z"
   },
   {
    "duration": 6,
    "start_time": "2023-10-05T08:13:49.514Z"
   },
   {
    "duration": 13,
    "start_time": "2023-10-05T08:13:49.594Z"
   },
   {
    "duration": 8,
    "start_time": "2023-10-05T08:13:49.655Z"
   },
   {
    "duration": 4,
    "start_time": "2023-10-05T08:13:49.724Z"
   },
   {
    "duration": 4,
    "start_time": "2023-10-05T08:13:50.083Z"
   },
   {
    "duration": 3,
    "start_time": "2023-10-05T08:13:50.624Z"
   },
   {
    "duration": 2,
    "start_time": "2023-10-05T08:13:51.204Z"
   },
   {
    "duration": 9,
    "start_time": "2023-10-05T08:13:51.534Z"
   },
   {
    "duration": 15,
    "start_time": "2023-10-05T08:13:52.684Z"
   },
   {
    "duration": 11,
    "start_time": "2023-10-05T08:13:53.243Z"
   },
   {
    "duration": 47,
    "start_time": "2023-10-05T08:13:53.273Z"
   },
   {
    "duration": 6,
    "start_time": "2023-10-05T08:13:54.815Z"
   },
   {
    "duration": 16,
    "start_time": "2023-10-05T08:14:00.054Z"
   },
   {
    "duration": 1681,
    "start_time": "2023-10-05T10:43:37.208Z"
   },
   {
    "duration": 357,
    "start_time": "2023-10-05T10:43:38.891Z"
   },
   {
    "duration": 24,
    "start_time": "2023-10-05T10:43:39.251Z"
   },
   {
    "duration": 20,
    "start_time": "2023-10-05T10:43:39.277Z"
   },
   {
    "duration": 53,
    "start_time": "2023-10-05T10:43:39.299Z"
   },
   {
    "duration": 11,
    "start_time": "2023-10-05T10:43:39.354Z"
   },
   {
    "duration": 12,
    "start_time": "2023-10-05T10:43:39.366Z"
   },
   {
    "duration": 13,
    "start_time": "2023-10-05T10:43:39.380Z"
   },
   {
    "duration": 31,
    "start_time": "2023-10-05T10:43:39.395Z"
   },
   {
    "duration": 8,
    "start_time": "2023-10-05T10:43:39.429Z"
   },
   {
    "duration": 34,
    "start_time": "2023-10-05T10:43:39.438Z"
   },
   {
    "duration": 10,
    "start_time": "2023-10-05T10:43:39.474Z"
   },
   {
    "duration": 23,
    "start_time": "2023-10-05T10:43:39.486Z"
   },
   {
    "duration": 10,
    "start_time": "2023-10-05T10:43:39.511Z"
   },
   {
    "duration": 17,
    "start_time": "2023-10-05T10:43:39.523Z"
   },
   {
    "duration": 7,
    "start_time": "2023-10-05T10:43:39.542Z"
   },
   {
    "duration": 6,
    "start_time": "2023-10-05T10:43:39.550Z"
   },
   {
    "duration": 9,
    "start_time": "2023-10-05T10:43:39.558Z"
   },
   {
    "duration": 16,
    "start_time": "2023-10-05T10:43:39.570Z"
   },
   {
    "duration": 193,
    "start_time": "2023-10-05T10:43:39.587Z"
   },
   {
    "duration": 23,
    "start_time": "2023-10-05T10:43:39.781Z"
   },
   {
    "duration": 6,
    "start_time": "2023-10-05T10:43:39.806Z"
   },
   {
    "duration": 15,
    "start_time": "2023-10-05T10:43:39.814Z"
   },
   {
    "duration": 11,
    "start_time": "2023-10-05T10:43:40.173Z"
   },
   {
    "duration": 16,
    "start_time": "2023-10-05T10:43:40.823Z"
   },
   {
    "duration": 10,
    "start_time": "2023-10-05T10:43:41.142Z"
   },
   {
    "duration": 10,
    "start_time": "2023-10-05T10:43:41.915Z"
   },
   {
    "duration": 6,
    "start_time": "2023-10-05T10:43:43.703Z"
   },
   {
    "duration": 1006,
    "start_time": "2023-10-05T10:43:43.775Z"
   },
   {
    "duration": 3,
    "start_time": "2023-10-05T10:45:02.105Z"
   },
   {
    "duration": 33855,
    "start_time": "2023-10-05T10:45:03.933Z"
   },
   {
    "duration": 5,
    "start_time": "2023-10-05T10:45:37.790Z"
   },
   {
    "duration": 78,
    "start_time": "2023-10-05T10:45:37.797Z"
   },
   {
    "duration": 19,
    "start_time": "2023-10-05T10:45:37.877Z"
   },
   {
    "duration": 38,
    "start_time": "2023-10-05T10:45:37.897Z"
   },
   {
    "duration": 40,
    "start_time": "2023-10-05T10:45:37.937Z"
   },
   {
    "duration": 11,
    "start_time": "2023-10-05T10:45:37.979Z"
   },
   {
    "duration": 28,
    "start_time": "2023-10-05T10:45:37.992Z"
   },
   {
    "duration": 9,
    "start_time": "2023-10-05T10:45:38.021Z"
   },
   {
    "duration": 20,
    "start_time": "2023-10-05T10:45:38.033Z"
   },
   {
    "duration": 21,
    "start_time": "2023-10-05T10:45:38.054Z"
   },
   {
    "duration": 6,
    "start_time": "2023-10-05T10:45:38.077Z"
   },
   {
    "duration": 15,
    "start_time": "2023-10-05T10:45:38.085Z"
   },
   {
    "duration": 28,
    "start_time": "2023-10-05T10:45:38.102Z"
   },
   {
    "duration": 21,
    "start_time": "2023-10-05T10:45:38.132Z"
   },
   {
    "duration": 25,
    "start_time": "2023-10-05T10:45:38.155Z"
   },
   {
    "duration": 4,
    "start_time": "2023-10-05T10:45:38.182Z"
   },
   {
    "duration": 25,
    "start_time": "2023-10-05T10:45:38.187Z"
   },
   {
    "duration": 17,
    "start_time": "2023-10-05T10:45:38.214Z"
   },
   {
    "duration": 9,
    "start_time": "2023-10-05T10:45:38.233Z"
   },
   {
    "duration": 13,
    "start_time": "2023-10-05T10:45:38.243Z"
   },
   {
    "duration": 9,
    "start_time": "2023-10-05T10:45:38.257Z"
   },
   {
    "duration": 15,
    "start_time": "2023-10-05T10:45:38.268Z"
   },
   {
    "duration": 18,
    "start_time": "2023-10-05T10:45:38.285Z"
   },
   {
    "duration": 23,
    "start_time": "2023-10-05T10:45:38.305Z"
   },
   {
    "duration": 17,
    "start_time": "2023-10-05T10:45:38.330Z"
   },
   {
    "duration": 9,
    "start_time": "2023-10-05T10:45:38.349Z"
   },
   {
    "duration": 11,
    "start_time": "2023-10-05T10:45:38.361Z"
   },
   {
    "duration": 10,
    "start_time": "2023-10-05T10:45:38.374Z"
   },
   {
    "duration": 990,
    "start_time": "2023-10-05T10:45:38.386Z"
   },
   {
    "duration": 22,
    "start_time": "2023-10-05T10:48:15.397Z"
   },
   {
    "duration": 10,
    "start_time": "2023-10-05T10:48:51.927Z"
   },
   {
    "duration": 9,
    "start_time": "2023-10-05T10:48:52.547Z"
   },
   {
    "duration": 4,
    "start_time": "2023-10-05T10:51:26.917Z"
   },
   {
    "duration": 42,
    "start_time": "2023-10-05T10:51:27.415Z"
   },
   {
    "duration": 13,
    "start_time": "2023-10-05T10:51:27.954Z"
   },
   {
    "duration": 12,
    "start_time": "2023-10-05T10:51:28.004Z"
   },
   {
    "duration": 38,
    "start_time": "2023-10-05T10:51:28.050Z"
   },
   {
    "duration": 10,
    "start_time": "2023-10-05T10:51:28.125Z"
   },
   {
    "duration": 7,
    "start_time": "2023-10-05T10:51:28.175Z"
   },
   {
    "duration": 8,
    "start_time": "2023-10-05T10:51:28.205Z"
   },
   {
    "duration": 5,
    "start_time": "2023-10-05T10:51:28.286Z"
   },
   {
    "duration": 4,
    "start_time": "2023-10-05T10:51:28.355Z"
   },
   {
    "duration": 2,
    "start_time": "2023-10-05T10:51:28.432Z"
   },
   {
    "duration": 4,
    "start_time": "2023-10-05T10:51:29.166Z"
   },
   {
    "duration": 11,
    "start_time": "2023-10-05T10:51:29.745Z"
   },
   {
    "duration": 9,
    "start_time": "2023-10-05T10:51:30.795Z"
   },
   {
    "duration": 59,
    "start_time": "2023-10-05T10:51:30.835Z"
   },
   {
    "duration": 75,
    "start_time": "2023-10-05T10:51:30.897Z"
   },
   {
    "duration": 5,
    "start_time": "2023-10-05T10:51:32.577Z"
   },
   {
    "duration": 8,
    "start_time": "2023-10-05T10:51:32.894Z"
   },
   {
    "duration": 5,
    "start_time": "2023-10-05T10:51:34.714Z"
   },
   {
    "duration": 4,
    "start_time": "2023-10-05T10:51:34.794Z"
   },
   {
    "duration": 3,
    "start_time": "2023-10-05T10:51:35.225Z"
   },
   {
    "duration": 3,
    "start_time": "2023-10-05T10:51:35.664Z"
   },
   {
    "duration": 2,
    "start_time": "2023-10-05T10:51:37.723Z"
   },
   {
    "duration": 10,
    "start_time": "2023-10-05T10:51:37.985Z"
   },
   {
    "duration": 26,
    "start_time": "2023-10-05T10:51:38.494Z"
   },
   {
    "duration": 10,
    "start_time": "2023-10-05T10:51:39.335Z"
   },
   {
    "duration": 10,
    "start_time": "2023-10-05T10:51:39.905Z"
   },
   {
    "duration": 10,
    "start_time": "2023-10-05T11:17:25.722Z"
   },
   {
    "duration": 302,
    "start_time": "2023-10-05T11:17:58.453Z"
   },
   {
    "duration": 301,
    "start_time": "2023-10-05T11:28:37.045Z"
   },
   {
    "duration": 368,
    "start_time": "2023-10-05T11:30:23.924Z"
   },
   {
    "duration": 275,
    "start_time": "2023-10-05T11:30:42.302Z"
   },
   {
    "duration": 278,
    "start_time": "2023-10-05T11:32:20.903Z"
   },
   {
    "duration": 158,
    "start_time": "2023-10-05T11:33:05.023Z"
   },
   {
    "duration": 149,
    "start_time": "2023-10-05T11:34:27.323Z"
   },
   {
    "duration": 152,
    "start_time": "2023-10-05T11:34:40.042Z"
   },
   {
    "duration": 136,
    "start_time": "2023-10-05T11:35:43.468Z"
   },
   {
    "duration": 170,
    "start_time": "2023-10-05T11:36:34.884Z"
   },
   {
    "duration": 140,
    "start_time": "2023-10-05T11:37:39.938Z"
   },
   {
    "duration": 135,
    "start_time": "2023-10-05T11:37:51.012Z"
   },
   {
    "duration": 135,
    "start_time": "2023-10-05T11:37:58.028Z"
   },
   {
    "duration": 319,
    "start_time": "2023-10-05T11:38:21.927Z"
   },
   {
    "duration": 325,
    "start_time": "2023-10-05T11:47:47.863Z"
   },
   {
    "duration": 235876,
    "start_time": "2023-10-05T11:51:24.904Z"
   },
   {
    "duration": 24374,
    "start_time": "2023-10-05T11:56:40.129Z"
   },
   {
    "duration": 237014,
    "start_time": "2023-10-05T11:57:40.109Z"
   },
   {
    "duration": 12480,
    "start_time": "2023-10-05T12:02:17.007Z"
   },
   {
    "duration": 337,
    "start_time": "2023-10-05T12:04:17.109Z"
   },
   {
    "duration": 531,
    "start_time": "2023-10-05T12:12:02.221Z"
   },
   {
    "duration": 2145,
    "start_time": "2023-10-06T06:36:04.133Z"
   },
   {
    "duration": 106,
    "start_time": "2023-10-06T06:36:06.281Z"
   },
   {
    "duration": 24,
    "start_time": "2023-10-06T06:36:06.389Z"
   },
   {
    "duration": 43,
    "start_time": "2023-10-06T06:36:06.416Z"
   },
   {
    "duration": 47,
    "start_time": "2023-10-06T06:36:06.460Z"
   },
   {
    "duration": 18,
    "start_time": "2023-10-06T06:36:06.509Z"
   },
   {
    "duration": 73,
    "start_time": "2023-10-06T06:36:06.529Z"
   },
   {
    "duration": 36,
    "start_time": "2023-10-06T06:36:06.604Z"
   },
   {
    "duration": 16,
    "start_time": "2023-10-06T06:36:06.642Z"
   },
   {
    "duration": 38,
    "start_time": "2023-10-06T06:36:06.661Z"
   },
   {
    "duration": 39,
    "start_time": "2023-10-06T06:36:06.701Z"
   },
   {
    "duration": 41,
    "start_time": "2023-10-06T06:36:06.741Z"
   },
   {
    "duration": 31,
    "start_time": "2023-10-06T06:36:06.783Z"
   },
   {
    "duration": 63,
    "start_time": "2023-10-06T06:36:06.816Z"
   },
   {
    "duration": 33,
    "start_time": "2023-10-06T06:36:06.881Z"
   },
   {
    "duration": 29,
    "start_time": "2023-10-06T06:36:06.916Z"
   },
   {
    "duration": 35,
    "start_time": "2023-10-06T06:36:06.947Z"
   },
   {
    "duration": 33,
    "start_time": "2023-10-06T06:36:06.984Z"
   },
   {
    "duration": 23,
    "start_time": "2023-10-06T06:36:07.019Z"
   },
   {
    "duration": 36,
    "start_time": "2023-10-06T06:36:07.044Z"
   },
   {
    "duration": 29,
    "start_time": "2023-10-06T06:36:07.083Z"
   },
   {
    "duration": 8,
    "start_time": "2023-10-06T06:36:07.449Z"
   },
   {
    "duration": 4,
    "start_time": "2023-10-06T06:36:07.610Z"
   },
   {
    "duration": 10,
    "start_time": "2023-10-06T06:36:07.662Z"
   },
   {
    "duration": 29,
    "start_time": "2023-10-06T06:36:07.721Z"
   },
   {
    "duration": 12,
    "start_time": "2023-10-06T06:36:07.800Z"
   },
   {
    "duration": 12,
    "start_time": "2023-10-06T06:36:07.814Z"
   },
   {
    "duration": 340,
    "start_time": "2023-10-06T06:36:08.024Z"
   },
   {
    "duration": 12191,
    "start_time": "2023-10-06T06:36:08.366Z"
   },
   {
    "duration": 292,
    "start_time": "2023-10-06T06:36:20.559Z"
   },
   {
    "duration": 655,
    "start_time": "2023-10-06T06:36:20.853Z"
   },
   {
    "duration": 6,
    "start_time": "2023-10-06T06:36:21.510Z"
   },
   {
    "duration": 1058,
    "start_time": "2023-10-06T06:36:21.517Z"
   },
   {
    "duration": 14,
    "start_time": "2023-10-06T06:39:38.642Z"
   },
   {
    "duration": 48,
    "start_time": "2023-10-06T06:41:48.945Z"
   },
   {
    "duration": 49,
    "start_time": "2023-10-06T06:49:36.452Z"
   },
   {
    "duration": 47,
    "start_time": "2023-10-06T06:50:29.688Z"
   },
   {
    "duration": 506,
    "start_time": "2023-10-06T06:51:38.369Z"
   },
   {
    "duration": 206,
    "start_time": "2023-10-06T06:51:46.080Z"
   },
   {
    "duration": 533,
    "start_time": "2023-10-06T06:52:22.384Z"
   },
   {
    "duration": 43,
    "start_time": "2023-10-06T06:52:42.703Z"
   },
   {
    "duration": 183,
    "start_time": "2023-10-06T06:52:44.321Z"
   },
   {
    "duration": 52,
    "start_time": "2023-10-06T06:53:58.909Z"
   },
   {
    "duration": 68,
    "start_time": "2023-10-06T06:54:25.191Z"
   },
   {
    "duration": 49,
    "start_time": "2023-10-06T06:59:35.616Z"
   },
   {
    "duration": 184,
    "start_time": "2023-10-06T06:59:43.302Z"
   },
   {
    "duration": 124,
    "start_time": "2023-10-06T06:59:54.345Z"
   },
   {
    "duration": 14,
    "start_time": "2023-10-06T07:01:18.503Z"
   },
   {
    "duration": 38,
    "start_time": "2023-10-06T07:02:36.405Z"
   },
   {
    "duration": 221,
    "start_time": "2023-10-06T07:05:14.489Z"
   },
   {
    "duration": 87,
    "start_time": "2023-10-06T07:05:30.717Z"
   },
   {
    "duration": 115,
    "start_time": "2023-10-06T07:05:56.294Z"
   },
   {
    "duration": 101,
    "start_time": "2023-10-06T07:07:34.977Z"
   },
   {
    "duration": 319,
    "start_time": "2023-10-06T07:13:39.601Z"
   },
   {
    "duration": 115,
    "start_time": "2023-10-06T07:13:48.616Z"
   },
   {
    "duration": 621,
    "start_time": "2023-10-06T07:14:06.380Z"
   },
   {
    "duration": 237,
    "start_time": "2023-10-06T07:14:12.690Z"
   },
   {
    "duration": 567,
    "start_time": "2023-10-06T07:20:26.141Z"
   },
   {
    "duration": 555,
    "start_time": "2023-10-06T07:28:27.981Z"
   },
   {
    "duration": 174,
    "start_time": "2023-10-06T07:30:22.198Z"
   },
   {
    "duration": 83,
    "start_time": "2023-10-06T07:30:59.816Z"
   },
   {
    "duration": 508,
    "start_time": "2023-10-06T07:32:04.285Z"
   },
   {
    "duration": 471,
    "start_time": "2023-10-06T07:32:38.674Z"
   },
   {
    "duration": 148,
    "start_time": "2023-10-06T07:34:51.898Z"
   },
   {
    "duration": 139,
    "start_time": "2023-10-06T07:36:02.026Z"
   },
   {
    "duration": 20,
    "start_time": "2023-10-06T07:36:56.509Z"
   },
   {
    "duration": 16,
    "start_time": "2023-10-06T07:48:01.750Z"
   },
   {
    "duration": 13,
    "start_time": "2023-10-06T07:48:26.696Z"
   },
   {
    "duration": 29,
    "start_time": "2023-10-06T07:50:42.672Z"
   },
   {
    "duration": 1538,
    "start_time": "2023-10-06T07:51:03.427Z"
   },
   {
    "duration": 135,
    "start_time": "2023-10-06T07:51:08.688Z"
   },
   {
    "duration": 217,
    "start_time": "2023-10-06T07:51:31.516Z"
   },
   {
    "duration": 48,
    "start_time": "2023-10-06T07:51:40.576Z"
   },
   {
    "duration": 10,
    "start_time": "2023-10-06T07:52:33.148Z"
   },
   {
    "duration": 15,
    "start_time": "2023-10-06T07:55:27.375Z"
   },
   {
    "duration": 6,
    "start_time": "2023-10-06T07:57:35.284Z"
   },
   {
    "duration": 182,
    "start_time": "2023-10-06T07:57:59.570Z"
   },
   {
    "duration": 16,
    "start_time": "2023-10-06T07:58:24.167Z"
   },
   {
    "duration": 31,
    "start_time": "2023-10-06T07:58:37.704Z"
   },
   {
    "duration": 32,
    "start_time": "2023-10-06T07:59:08.185Z"
   },
   {
    "duration": 7,
    "start_time": "2023-10-06T08:00:42.040Z"
   },
   {
    "duration": 34,
    "start_time": "2023-10-06T08:00:42.653Z"
   },
   {
    "duration": 315,
    "start_time": "2023-10-06T08:00:44.522Z"
   },
   {
    "duration": 41,
    "start_time": "2023-10-06T08:00:45.603Z"
   },
   {
    "duration": 14,
    "start_time": "2023-10-06T08:00:47.497Z"
   },
   {
    "duration": 12,
    "start_time": "2023-10-06T08:00:48.205Z"
   },
   {
    "duration": 47,
    "start_time": "2023-10-06T08:00:48.978Z"
   },
   {
    "duration": 7,
    "start_time": "2023-10-06T08:31:37.578Z"
   },
   {
    "duration": 43,
    "start_time": "2023-10-06T08:31:38.208Z"
   },
   {
    "duration": 13,
    "start_time": "2023-10-06T08:31:38.620Z"
   },
   {
    "duration": 21,
    "start_time": "2023-10-06T08:31:38.946Z"
   },
   {
    "duration": 54,
    "start_time": "2023-10-06T08:31:39.683Z"
   },
   {
    "duration": 15,
    "start_time": "2023-10-06T08:31:40.281Z"
   },
   {
    "duration": 11,
    "start_time": "2023-10-06T08:31:40.883Z"
   },
   {
    "duration": 9,
    "start_time": "2023-10-06T08:31:41.317Z"
   },
   {
    "duration": 6,
    "start_time": "2023-10-06T08:31:42.231Z"
   },
   {
    "duration": 7,
    "start_time": "2023-10-06T08:31:42.787Z"
   },
   {
    "duration": 3,
    "start_time": "2023-10-06T08:31:44.506Z"
   },
   {
    "duration": 7,
    "start_time": "2023-10-06T08:31:45.140Z"
   },
   {
    "duration": 16,
    "start_time": "2023-10-06T08:31:46.099Z"
   },
   {
    "duration": 4,
    "start_time": "2023-10-06T08:32:14.606Z"
   },
   {
    "duration": 70,
    "start_time": "2023-10-06T08:32:15.041Z"
   },
   {
    "duration": 28,
    "start_time": "2023-10-06T08:32:15.369Z"
   },
   {
    "duration": 13,
    "start_time": "2023-10-06T08:32:15.633Z"
   },
   {
    "duration": 60,
    "start_time": "2023-10-06T08:32:16.237Z"
   },
   {
    "duration": 11,
    "start_time": "2023-10-06T08:32:16.828Z"
   },
   {
    "duration": 7,
    "start_time": "2023-10-06T08:32:17.405Z"
   },
   {
    "duration": 9,
    "start_time": "2023-10-06T08:32:17.689Z"
   },
   {
    "duration": 6,
    "start_time": "2023-10-06T08:32:18.385Z"
   },
   {
    "duration": 14,
    "start_time": "2023-10-06T08:32:18.970Z"
   },
   {
    "duration": 5,
    "start_time": "2023-10-06T08:32:19.468Z"
   },
   {
    "duration": 6,
    "start_time": "2023-10-06T08:32:19.711Z"
   },
   {
    "duration": 20,
    "start_time": "2023-10-06T08:32:19.981Z"
   },
   {
    "duration": 10,
    "start_time": "2023-10-06T08:32:21.001Z"
   },
   {
    "duration": 27,
    "start_time": "2023-10-06T08:32:21.277Z"
   },
   {
    "duration": 10,
    "start_time": "2023-10-06T08:32:21.545Z"
   },
   {
    "duration": 8,
    "start_time": "2023-10-06T08:32:22.431Z"
   },
   {
    "duration": 17,
    "start_time": "2023-10-06T08:32:22.948Z"
   },
   {
    "duration": 9,
    "start_time": "2023-10-06T08:32:23.445Z"
   },
   {
    "duration": 4,
    "start_time": "2023-10-06T08:32:24.132Z"
   },
   {
    "duration": 7,
    "start_time": "2023-10-06T08:32:24.352Z"
   },
   {
    "duration": 5,
    "start_time": "2023-10-06T08:32:24.814Z"
   },
   {
    "duration": 8,
    "start_time": "2023-10-06T08:32:25.779Z"
   },
   {
    "duration": 13,
    "start_time": "2023-10-06T08:32:26.026Z"
   },
   {
    "duration": 36,
    "start_time": "2023-10-06T08:32:26.269Z"
   },
   {
    "duration": 21,
    "start_time": "2023-10-06T08:32:26.483Z"
   },
   {
    "duration": 17,
    "start_time": "2023-10-06T08:32:26.743Z"
   },
   {
    "duration": 327,
    "start_time": "2023-10-06T08:32:28.094Z"
   },
   {
    "duration": 13443,
    "start_time": "2023-10-06T08:32:29.593Z"
   },
   {
    "duration": 1420,
    "start_time": "2023-10-06T08:32:43.038Z"
   },
   {
    "duration": 692,
    "start_time": "2023-10-06T08:32:44.487Z"
   },
   {
    "duration": 28,
    "start_time": "2023-10-06T08:32:45.184Z"
   },
   {
    "duration": 57,
    "start_time": "2023-10-06T08:32:45.215Z"
   },
   {
    "duration": 162,
    "start_time": "2023-10-06T08:32:45.275Z"
   },
   {
    "duration": 128,
    "start_time": "2023-10-06T08:32:45.447Z"
   },
   {
    "duration": 102,
    "start_time": "2023-10-06T08:32:45.578Z"
   },
   {
    "duration": 81,
    "start_time": "2023-10-06T08:32:45.689Z"
   },
   {
    "duration": 81,
    "start_time": "2023-10-06T08:32:45.780Z"
   },
   {
    "duration": 187,
    "start_time": "2023-10-06T08:32:45.865Z"
   },
   {
    "duration": 623,
    "start_time": "2023-10-06T08:32:46.072Z"
   },
   {
    "duration": 508,
    "start_time": "2023-10-06T08:32:46.770Z"
   },
   {
    "duration": 5,
    "start_time": "2023-10-06T08:32:48.915Z"
   },
   {
    "duration": 11,
    "start_time": "2023-10-06T08:32:49.906Z"
   },
   {
    "duration": 230,
    "start_time": "2023-10-06T08:32:50.327Z"
   },
   {
    "duration": 38,
    "start_time": "2023-10-06T08:32:50.709Z"
   },
   {
    "duration": 10,
    "start_time": "2023-10-06T08:32:51.679Z"
   },
   {
    "duration": 11,
    "start_time": "2023-10-06T08:32:52.173Z"
   },
   {
    "duration": 28,
    "start_time": "2023-10-06T08:32:53.141Z"
   },
   {
    "duration": 16444,
    "start_time": "2023-10-09T05:53:17.811Z"
   },
   {
    "duration": 5175,
    "start_time": "2023-10-09T05:54:30.923Z"
   },
   {
    "duration": 338,
    "start_time": "2023-10-09T05:54:44.963Z"
   },
   {
    "duration": 84,
    "start_time": "2023-10-09T05:54:45.589Z"
   },
   {
    "duration": 18,
    "start_time": "2023-10-09T05:54:45.675Z"
   },
   {
    "duration": 19,
    "start_time": "2023-10-09T05:54:45.694Z"
   },
   {
    "duration": 41,
    "start_time": "2023-10-09T05:54:45.759Z"
   },
   {
    "duration": 10,
    "start_time": "2023-10-09T05:54:45.832Z"
   },
   {
    "duration": 7,
    "start_time": "2023-10-09T05:54:45.889Z"
   },
   {
    "duration": 8,
    "start_time": "2023-10-09T05:54:45.948Z"
   },
   {
    "duration": 5,
    "start_time": "2023-10-09T05:54:46.032Z"
   },
   {
    "duration": 4,
    "start_time": "2023-10-09T05:54:46.738Z"
   },
   {
    "duration": 2,
    "start_time": "2023-10-09T05:54:47.398Z"
   },
   {
    "duration": 17,
    "start_time": "2023-10-09T05:54:47.428Z"
   },
   {
    "duration": 11,
    "start_time": "2023-10-09T05:54:47.470Z"
   },
   {
    "duration": 11181,
    "start_time": "2023-10-09T05:54:47.559Z"
   },
   {
    "duration": 9,
    "start_time": "2023-10-09T05:54:58.744Z"
   },
   {
    "duration": 37,
    "start_time": "2023-10-09T05:54:58.755Z"
   },
   {
    "duration": 15,
    "start_time": "2023-10-09T05:54:58.794Z"
   },
   {
    "duration": 35,
    "start_time": "2023-10-09T05:54:58.811Z"
   },
   {
    "duration": 18,
    "start_time": "2023-10-09T05:54:58.848Z"
   },
   {
    "duration": 12,
    "start_time": "2023-10-09T05:54:58.868Z"
   },
   {
    "duration": 20,
    "start_time": "2023-10-09T05:54:58.882Z"
   },
   {
    "duration": 14,
    "start_time": "2023-10-09T05:54:58.904Z"
   },
   {
    "duration": 16,
    "start_time": "2023-10-09T05:54:58.920Z"
   },
   {
    "duration": 21,
    "start_time": "2023-10-09T05:54:58.937Z"
   },
   {
    "duration": 28,
    "start_time": "2023-10-09T05:54:58.960Z"
   },
   {
    "duration": 27,
    "start_time": "2023-10-09T05:54:58.990Z"
   },
   {
    "duration": 14,
    "start_time": "2023-10-09T05:54:59.019Z"
   },
   {
    "duration": 15,
    "start_time": "2023-10-09T05:54:59.034Z"
   },
   {
    "duration": 303,
    "start_time": "2023-10-09T05:54:59.051Z"
   },
   {
    "duration": 12171,
    "start_time": "2023-10-09T05:54:59.356Z"
   },
   {
    "duration": 325,
    "start_time": "2023-10-09T05:55:11.529Z"
   },
   {
    "duration": 482,
    "start_time": "2023-10-09T05:55:11.944Z"
   },
   {
    "duration": 17,
    "start_time": "2023-10-09T05:55:12.428Z"
   },
   {
    "duration": 66,
    "start_time": "2023-10-09T05:55:12.446Z"
   },
   {
    "duration": 163,
    "start_time": "2023-10-09T05:55:12.513Z"
   },
   {
    "duration": 266,
    "start_time": "2023-10-09T05:55:12.678Z"
   },
   {
    "duration": 99,
    "start_time": "2023-10-09T05:55:12.946Z"
   },
   {
    "duration": 35,
    "start_time": "2023-10-09T05:55:13.047Z"
   },
   {
    "duration": 86,
    "start_time": "2023-10-09T05:55:13.084Z"
   },
   {
    "duration": 173,
    "start_time": "2023-10-09T05:55:13.171Z"
   },
   {
    "duration": 585,
    "start_time": "2023-10-09T05:55:13.349Z"
   },
   {
    "duration": 494,
    "start_time": "2023-10-09T05:55:13.943Z"
   },
   {
    "duration": 6,
    "start_time": "2023-10-09T05:55:14.445Z"
   },
   {
    "duration": 39,
    "start_time": "2023-10-09T05:55:14.453Z"
   },
   {
    "duration": 193,
    "start_time": "2023-10-09T05:55:14.494Z"
   },
   {
    "duration": 31,
    "start_time": "2023-10-09T05:55:14.689Z"
   },
   {
    "duration": 0,
    "start_time": "2023-10-09T05:55:14.722Z"
   },
   {
    "duration": 0,
    "start_time": "2023-10-09T05:55:14.723Z"
   },
   {
    "duration": 0,
    "start_time": "2023-10-09T05:55:14.725Z"
   },
   {
    "duration": 4347,
    "start_time": "2023-10-09T05:57:59.597Z"
   },
   {
    "duration": 6259,
    "start_time": "2023-10-09T05:58:36.838Z"
   },
   {
    "duration": 5,
    "start_time": "2023-10-09T06:02:40.161Z"
   },
   {
    "duration": 763,
    "start_time": "2023-10-09T06:02:40.689Z"
   },
   {
    "duration": 1638,
    "start_time": "2023-10-09T08:08:52.302Z"
   },
   {
    "duration": 88,
    "start_time": "2023-10-09T08:08:53.942Z"
   },
   {
    "duration": 19,
    "start_time": "2023-10-09T08:08:54.032Z"
   },
   {
    "duration": 14,
    "start_time": "2023-10-09T08:08:54.053Z"
   },
   {
    "duration": 57,
    "start_time": "2023-10-09T08:08:54.069Z"
   },
   {
    "duration": 11,
    "start_time": "2023-10-09T08:08:54.129Z"
   },
   {
    "duration": 13,
    "start_time": "2023-10-09T08:08:54.142Z"
   },
   {
    "duration": 20,
    "start_time": "2023-10-09T08:08:54.156Z"
   },
   {
    "duration": 11,
    "start_time": "2023-10-09T08:08:54.178Z"
   },
   {
    "duration": 6,
    "start_time": "2023-10-09T08:08:54.191Z"
   },
   {
    "duration": 9,
    "start_time": "2023-10-09T08:08:54.198Z"
   },
   {
    "duration": 16,
    "start_time": "2023-10-09T08:08:54.208Z"
   },
   {
    "duration": 26,
    "start_time": "2023-10-09T08:08:54.226Z"
   },
   {
    "duration": 135,
    "start_time": "2023-10-09T08:08:54.254Z"
   },
   {
    "duration": 0,
    "start_time": "2023-10-09T08:08:54.391Z"
   },
   {
    "duration": 0,
    "start_time": "2023-10-09T08:08:54.393Z"
   },
   {
    "duration": 0,
    "start_time": "2023-10-09T08:08:54.394Z"
   },
   {
    "duration": 0,
    "start_time": "2023-10-09T08:08:54.395Z"
   },
   {
    "duration": 0,
    "start_time": "2023-10-09T08:08:54.396Z"
   },
   {
    "duration": 0,
    "start_time": "2023-10-09T08:08:54.397Z"
   },
   {
    "duration": 0,
    "start_time": "2023-10-09T08:08:54.398Z"
   },
   {
    "duration": 0,
    "start_time": "2023-10-09T08:08:54.400Z"
   },
   {
    "duration": 0,
    "start_time": "2023-10-09T08:08:54.400Z"
   },
   {
    "duration": 0,
    "start_time": "2023-10-09T08:08:54.401Z"
   },
   {
    "duration": 3,
    "start_time": "2023-10-09T08:08:54.465Z"
   },
   {
    "duration": 10,
    "start_time": "2023-10-09T08:08:54.510Z"
   },
   {
    "duration": 10,
    "start_time": "2023-10-09T08:08:54.589Z"
   },
   {
    "duration": 10,
    "start_time": "2023-10-09T08:08:54.630Z"
   },
   {
    "duration": 10,
    "start_time": "2023-10-09T08:08:54.677Z"
   },
   {
    "duration": 131,
    "start_time": "2023-10-09T08:08:54.914Z"
   },
   {
    "duration": 107,
    "start_time": "2023-10-09T08:08:55.047Z"
   },
   {
    "duration": 86,
    "start_time": "2023-10-09T08:08:55.157Z"
   },
   {
    "duration": 159,
    "start_time": "2023-10-09T08:08:55.251Z"
   },
   {
    "duration": 14,
    "start_time": "2023-10-09T08:08:55.948Z"
   },
   {
    "duration": 12,
    "start_time": "2023-10-09T08:08:56.075Z"
   },
   {
    "duration": 12,
    "start_time": "2023-10-09T08:08:56.176Z"
   },
   {
    "duration": 12,
    "start_time": "2023-10-09T08:08:56.250Z"
   },
   {
    "duration": 11,
    "start_time": "2023-10-09T08:08:56.375Z"
   },
   {
    "duration": 11,
    "start_time": "2023-10-09T08:08:56.510Z"
   },
   {
    "duration": 12,
    "start_time": "2023-10-09T08:08:56.574Z"
   },
   {
    "duration": 15,
    "start_time": "2023-10-09T08:08:56.660Z"
   },
   {
    "duration": 181,
    "start_time": "2023-10-09T08:08:56.780Z"
   },
   {
    "duration": 0,
    "start_time": "2023-10-09T08:08:56.964Z"
   },
   {
    "duration": 9,
    "start_time": "2023-10-09T08:08:57.002Z"
   },
   {
    "duration": 10,
    "start_time": "2023-10-09T08:08:57.048Z"
   },
   {
    "duration": 10,
    "start_time": "2023-10-09T08:08:57.172Z"
   },
   {
    "duration": 13,
    "start_time": "2023-10-09T08:08:57.810Z"
   },
   {
    "duration": 12,
    "start_time": "2023-10-09T08:08:58.041Z"
   },
   {
    "duration": 12,
    "start_time": "2023-10-09T08:08:58.251Z"
   },
   {
    "duration": 9,
    "start_time": "2023-10-09T08:09:01.403Z"
   },
   {
    "duration": 10,
    "start_time": "2023-10-09T08:09:02.034Z"
   },
   {
    "duration": 9,
    "start_time": "2023-10-09T08:09:02.793Z"
   },
   {
    "duration": 41311,
    "start_time": "2023-10-09T08:09:09.804Z"
   },
   {
    "duration": 30769,
    "start_time": "2023-10-09T08:09:51.117Z"
   },
   {
    "duration": 4791,
    "start_time": "2023-10-09T08:10:21.888Z"
   },
   {
    "duration": 5,
    "start_time": "2023-10-09T08:10:26.682Z"
   },
   {
    "duration": 111,
    "start_time": "2023-10-09T08:10:26.689Z"
   },
   {
    "duration": 87,
    "start_time": "2023-10-09T08:10:26.802Z"
   },
   {
    "duration": 37,
    "start_time": "2023-10-09T08:10:26.891Z"
   },
   {
    "duration": 49,
    "start_time": "2023-10-09T08:10:26.930Z"
   },
   {
    "duration": 29,
    "start_time": "2023-10-09T08:10:26.981Z"
   },
   {
    "duration": 64,
    "start_time": "2023-10-09T08:10:27.013Z"
   },
   {
    "duration": 50,
    "start_time": "2023-10-09T08:10:27.079Z"
   },
   {
    "duration": 21,
    "start_time": "2023-10-09T08:10:27.131Z"
   },
   {
    "duration": 38,
    "start_time": "2023-10-09T08:10:27.154Z"
   },
   {
    "duration": 53,
    "start_time": "2023-10-09T08:10:27.194Z"
   },
   {
    "duration": 96,
    "start_time": "2023-10-09T08:10:27.249Z"
   },
   {
    "duration": 77,
    "start_time": "2023-10-09T08:10:27.347Z"
   },
   {
    "duration": 1031,
    "start_time": "2023-10-09T08:10:27.426Z"
   },
   {
    "duration": 0,
    "start_time": "2023-10-09T08:10:28.460Z"
   },
   {
    "duration": 0,
    "start_time": "2023-10-09T08:10:28.461Z"
   },
   {
    "duration": 0,
    "start_time": "2023-10-09T08:10:28.462Z"
   },
   {
    "duration": 0,
    "start_time": "2023-10-09T08:10:28.463Z"
   },
   {
    "duration": 0,
    "start_time": "2023-10-09T08:10:28.464Z"
   },
   {
    "duration": 0,
    "start_time": "2023-10-09T08:10:28.465Z"
   },
   {
    "duration": 0,
    "start_time": "2023-10-09T08:10:28.466Z"
   },
   {
    "duration": 0,
    "start_time": "2023-10-09T08:10:28.467Z"
   },
   {
    "duration": 0,
    "start_time": "2023-10-09T08:10:28.468Z"
   },
   {
    "duration": 0,
    "start_time": "2023-10-09T08:10:28.469Z"
   },
   {
    "duration": 0,
    "start_time": "2023-10-09T08:10:28.470Z"
   },
   {
    "duration": 0,
    "start_time": "2023-10-09T08:10:28.471Z"
   },
   {
    "duration": 0,
    "start_time": "2023-10-09T08:10:28.472Z"
   },
   {
    "duration": 0,
    "start_time": "2023-10-09T08:10:28.473Z"
   },
   {
    "duration": 0,
    "start_time": "2023-10-09T08:10:28.474Z"
   },
   {
    "duration": 0,
    "start_time": "2023-10-09T08:10:28.475Z"
   },
   {
    "duration": 0,
    "start_time": "2023-10-09T08:10:28.476Z"
   },
   {
    "duration": 0,
    "start_time": "2023-10-09T08:10:28.478Z"
   },
   {
    "duration": 0,
    "start_time": "2023-10-09T08:10:28.479Z"
   },
   {
    "duration": 0,
    "start_time": "2023-10-09T08:10:28.481Z"
   },
   {
    "duration": 0,
    "start_time": "2023-10-09T08:10:28.525Z"
   },
   {
    "duration": 0,
    "start_time": "2023-10-09T08:10:28.526Z"
   },
   {
    "duration": 0,
    "start_time": "2023-10-09T08:10:28.527Z"
   },
   {
    "duration": 0,
    "start_time": "2023-10-09T08:10:28.528Z"
   },
   {
    "duration": 0,
    "start_time": "2023-10-09T08:10:28.529Z"
   },
   {
    "duration": 0,
    "start_time": "2023-10-09T08:10:28.530Z"
   },
   {
    "duration": 0,
    "start_time": "2023-10-09T08:10:28.531Z"
   },
   {
    "duration": 0,
    "start_time": "2023-10-09T08:10:28.532Z"
   },
   {
    "duration": 0,
    "start_time": "2023-10-09T08:10:28.534Z"
   },
   {
    "duration": 0,
    "start_time": "2023-10-09T08:10:28.535Z"
   },
   {
    "duration": 0,
    "start_time": "2023-10-09T08:10:28.536Z"
   },
   {
    "duration": 0,
    "start_time": "2023-10-09T08:10:28.537Z"
   },
   {
    "duration": 0,
    "start_time": "2023-10-09T08:10:28.538Z"
   },
   {
    "duration": 0,
    "start_time": "2023-10-09T08:10:28.539Z"
   },
   {
    "duration": 0,
    "start_time": "2023-10-09T08:10:28.540Z"
   },
   {
    "duration": 0,
    "start_time": "2023-10-09T08:10:28.542Z"
   },
   {
    "duration": 0,
    "start_time": "2023-10-09T08:10:28.542Z"
   },
   {
    "duration": 0,
    "start_time": "2023-10-09T08:10:28.543Z"
   },
   {
    "duration": 50,
    "start_time": "2023-10-09T08:15:58.513Z"
   },
   {
    "duration": 26,
    "start_time": "2023-10-09T08:16:10.404Z"
   },
   {
    "duration": 42,
    "start_time": "2023-10-09T08:16:17.836Z"
   },
   {
    "duration": 12,
    "start_time": "2023-10-09T08:16:31.714Z"
   },
   {
    "duration": 20,
    "start_time": "2023-10-09T08:16:32.594Z"
   },
   {
    "duration": 4,
    "start_time": "2023-10-09T08:16:33.118Z"
   },
   {
    "duration": 7,
    "start_time": "2023-10-09T08:16:34.111Z"
   },
   {
    "duration": 11,
    "start_time": "2023-10-09T08:16:34.642Z"
   },
   {
    "duration": 137,
    "start_time": "2023-10-09T08:16:34.718Z"
   },
   {
    "duration": 134,
    "start_time": "2023-10-09T08:16:34.858Z"
   },
   {
    "duration": 172,
    "start_time": "2023-10-09T08:16:34.994Z"
   },
   {
    "duration": 97,
    "start_time": "2023-10-09T08:16:35.168Z"
   },
   {
    "duration": 3,
    "start_time": "2023-10-09T08:16:35.932Z"
   },
   {
    "duration": 9,
    "start_time": "2023-10-09T08:16:36.251Z"
   },
   {
    "duration": 21,
    "start_time": "2023-10-09T08:16:36.763Z"
   },
   {
    "duration": 9,
    "start_time": "2023-10-09T08:16:37.397Z"
   },
   {
    "duration": 10,
    "start_time": "2023-10-09T08:16:37.651Z"
   },
   {
    "duration": 311,
    "start_time": "2023-10-09T08:16:38.573Z"
   },
   {
    "duration": 11797,
    "start_time": "2023-10-09T08:16:38.888Z"
   },
   {
    "duration": 344,
    "start_time": "2023-10-09T08:16:50.687Z"
   },
   {
    "duration": 571,
    "start_time": "2023-10-09T08:16:51.033Z"
   },
   {
    "duration": 33,
    "start_time": "2023-10-09T08:16:51.607Z"
   },
   {
    "duration": 0,
    "start_time": "2023-10-09T08:16:51.642Z"
   },
   {
    "duration": 0,
    "start_time": "2023-10-09T08:16:51.643Z"
   },
   {
    "duration": 0,
    "start_time": "2023-10-09T08:16:51.644Z"
   },
   {
    "duration": 0,
    "start_time": "2023-10-09T08:16:51.645Z"
   },
   {
    "duration": 0,
    "start_time": "2023-10-09T08:16:51.646Z"
   },
   {
    "duration": 0,
    "start_time": "2023-10-09T08:16:51.647Z"
   },
   {
    "duration": 0,
    "start_time": "2023-10-09T08:16:51.648Z"
   },
   {
    "duration": 0,
    "start_time": "2023-10-09T08:16:51.649Z"
   },
   {
    "duration": 0,
    "start_time": "2023-10-09T08:16:51.651Z"
   },
   {
    "duration": 0,
    "start_time": "2023-10-09T08:16:51.652Z"
   },
   {
    "duration": 0,
    "start_time": "2023-10-09T08:16:51.653Z"
   },
   {
    "duration": 0,
    "start_time": "2023-10-09T08:16:51.654Z"
   },
   {
    "duration": 0,
    "start_time": "2023-10-09T08:16:51.655Z"
   },
   {
    "duration": 0,
    "start_time": "2023-10-09T08:16:51.656Z"
   },
   {
    "duration": 0,
    "start_time": "2023-10-09T08:16:51.657Z"
   },
   {
    "duration": 137,
    "start_time": "2023-10-09T08:16:51.659Z"
   },
   {
    "duration": 55,
    "start_time": "2023-10-09T08:16:51.798Z"
   },
   {
    "duration": 0,
    "start_time": "2023-10-09T08:16:51.854Z"
   },
   {
    "duration": 0,
    "start_time": "2023-10-09T08:16:51.855Z"
   },
   {
    "duration": 13,
    "start_time": "2023-10-09T08:16:51.876Z"
   },
   {
    "duration": 14,
    "start_time": "2023-10-09T08:17:11.093Z"
   },
   {
    "duration": 19,
    "start_time": "2023-10-09T08:17:12.396Z"
   },
   {
    "duration": 3,
    "start_time": "2023-10-09T08:17:12.637Z"
   },
   {
    "duration": 14,
    "start_time": "2023-10-09T08:17:13.161Z"
   },
   {
    "duration": 20,
    "start_time": "2023-10-09T08:17:35.602Z"
   },
   {
    "duration": 4,
    "start_time": "2023-10-09T08:17:43.296Z"
   },
   {
    "duration": 42,
    "start_time": "2023-10-09T08:17:44.512Z"
   },
   {
    "duration": 13,
    "start_time": "2023-10-09T08:17:44.759Z"
   },
   {
    "duration": 12,
    "start_time": "2023-10-09T08:17:45.052Z"
   },
   {
    "duration": 37,
    "start_time": "2023-10-09T08:17:45.624Z"
   },
   {
    "duration": 11,
    "start_time": "2023-10-09T08:17:46.221Z"
   },
   {
    "duration": 8,
    "start_time": "2023-10-09T08:17:46.732Z"
   },
   {
    "duration": 8,
    "start_time": "2023-10-09T08:17:46.982Z"
   },
   {
    "duration": 6,
    "start_time": "2023-10-09T08:17:47.835Z"
   },
   {
    "duration": 5,
    "start_time": "2023-10-09T08:17:48.700Z"
   },
   {
    "duration": 2,
    "start_time": "2023-10-09T08:17:49.474Z"
   },
   {
    "duration": 5,
    "start_time": "2023-10-09T08:17:49.681Z"
   },
   {
    "duration": 11,
    "start_time": "2023-10-09T08:17:50.019Z"
   },
   {
    "duration": 19,
    "start_time": "2023-10-09T08:17:50.808Z"
   },
   {
    "duration": 45,
    "start_time": "2023-10-09T08:17:51.423Z"
   },
   {
    "duration": 3251,
    "start_time": "2023-10-09T08:18:17.841Z"
   },
   {
    "duration": 3382,
    "start_time": "2023-10-09T08:18:21.094Z"
   },
   {
    "duration": 2496,
    "start_time": "2023-10-09T08:18:24.478Z"
   },
   {
    "duration": 5,
    "start_time": "2023-10-09T08:18:26.977Z"
   },
   {
    "duration": 73,
    "start_time": "2023-10-09T08:18:26.983Z"
   },
   {
    "duration": 14,
    "start_time": "2023-10-09T08:18:27.058Z"
   },
   {
    "duration": 16,
    "start_time": "2023-10-09T08:18:27.073Z"
   },
   {
    "duration": 41,
    "start_time": "2023-10-09T08:18:32.355Z"
   },
   {
    "duration": 12,
    "start_time": "2023-10-09T08:18:33.283Z"
   },
   {
    "duration": 10,
    "start_time": "2023-10-09T08:18:33.871Z"
   },
   {
    "duration": 11,
    "start_time": "2023-10-09T08:18:34.238Z"
   },
   {
    "duration": 5,
    "start_time": "2023-10-09T08:18:34.930Z"
   },
   {
    "duration": 5,
    "start_time": "2023-10-09T08:18:35.733Z"
   },
   {
    "duration": 2,
    "start_time": "2023-10-09T08:18:36.596Z"
   },
   {
    "duration": 5,
    "start_time": "2023-10-09T08:18:36.870Z"
   },
   {
    "duration": 15,
    "start_time": "2023-10-09T08:18:37.314Z"
   },
   {
    "duration": 32,
    "start_time": "2023-10-09T08:18:38.216Z"
   },
   {
    "duration": 20,
    "start_time": "2023-10-09T08:18:46.611Z"
   },
   {
    "duration": 3385,
    "start_time": "2023-10-09T08:20:00.255Z"
   },
   {
    "duration": 3579,
    "start_time": "2023-10-09T08:20:08.133Z"
   },
   {
    "duration": 2507,
    "start_time": "2023-10-09T08:20:23.886Z"
   },
   {
    "duration": 5,
    "start_time": "2023-10-09T08:20:30.531Z"
   },
   {
    "duration": 46,
    "start_time": "2023-10-09T08:20:31.954Z"
   },
   {
    "duration": 18,
    "start_time": "2023-10-09T08:20:32.462Z"
   },
   {
    "duration": 14,
    "start_time": "2023-10-09T08:20:33.107Z"
   },
   {
    "duration": 40,
    "start_time": "2023-10-09T08:20:33.844Z"
   },
   {
    "duration": 12,
    "start_time": "2023-10-09T08:20:34.481Z"
   },
   {
    "duration": 9,
    "start_time": "2023-10-09T08:20:34.994Z"
   },
   {
    "duration": 9,
    "start_time": "2023-10-09T08:20:35.263Z"
   },
   {
    "duration": 5,
    "start_time": "2023-10-09T08:20:35.865Z"
   },
   {
    "duration": 6,
    "start_time": "2023-10-09T08:20:37.143Z"
   },
   {
    "duration": 3,
    "start_time": "2023-10-09T08:20:39.053Z"
   },
   {
    "duration": 4,
    "start_time": "2023-10-09T08:20:39.796Z"
   },
   {
    "duration": 12,
    "start_time": "2023-10-09T08:20:40.380Z"
   },
   {
    "duration": 26,
    "start_time": "2023-10-09T08:20:42.711Z"
   },
   {
    "duration": 22,
    "start_time": "2023-10-09T08:21:04.966Z"
   },
   {
    "duration": 49,
    "start_time": "2023-10-09T08:21:10.921Z"
   },
   {
    "duration": 31,
    "start_time": "2023-10-09T08:21:25.606Z"
   },
   {
    "duration": 4,
    "start_time": "2023-10-09T08:21:45.312Z"
   },
   {
    "duration": 50,
    "start_time": "2023-10-09T08:21:45.881Z"
   },
   {
    "duration": 52,
    "start_time": "2023-10-09T08:21:45.934Z"
   },
   {
    "duration": 38,
    "start_time": "2023-10-09T08:21:45.988Z"
   },
   {
    "duration": 117,
    "start_time": "2023-10-09T08:21:46.028Z"
   },
   {
    "duration": 42,
    "start_time": "2023-10-09T08:21:46.147Z"
   },
   {
    "duration": 40,
    "start_time": "2023-10-09T08:21:46.190Z"
   },
   {
    "duration": 29,
    "start_time": "2023-10-09T08:21:46.232Z"
   },
   {
    "duration": 38,
    "start_time": "2023-10-09T08:21:46.288Z"
   },
   {
    "duration": 10,
    "start_time": "2023-10-09T08:21:46.371Z"
   },
   {
    "duration": 3,
    "start_time": "2023-10-09T08:21:46.455Z"
   },
   {
    "duration": 9,
    "start_time": "2023-10-09T08:21:46.530Z"
   },
   {
    "duration": 77,
    "start_time": "2023-10-09T08:21:46.541Z"
   },
   {
    "duration": 96,
    "start_time": "2023-10-09T08:21:46.620Z"
   },
   {
    "duration": 0,
    "start_time": "2023-10-09T08:21:46.718Z"
   },
   {
    "duration": 9,
    "start_time": "2023-10-09T08:21:46.769Z"
   },
   {
    "duration": 22,
    "start_time": "2023-10-09T08:21:46.860Z"
   },
   {
    "duration": 21,
    "start_time": "2023-10-09T08:21:46.890Z"
   },
   {
    "duration": 6,
    "start_time": "2023-10-09T08:21:46.987Z"
   },
   {
    "duration": 10,
    "start_time": "2023-10-09T08:21:47.062Z"
   },
   {
    "duration": 7,
    "start_time": "2023-10-09T08:21:47.130Z"
   },
   {
    "duration": 28,
    "start_time": "2023-10-09T08:21:47.176Z"
   },
   {
    "duration": 92,
    "start_time": "2023-10-09T08:21:47.209Z"
   },
   {
    "duration": 104,
    "start_time": "2023-10-09T08:21:47.303Z"
   },
   {
    "duration": 172,
    "start_time": "2023-10-09T08:21:47.460Z"
   },
   {
    "duration": 175,
    "start_time": "2023-10-09T08:21:47.633Z"
   },
   {
    "duration": 92,
    "start_time": "2023-10-09T08:21:47.810Z"
   },
   {
    "duration": 104,
    "start_time": "2023-10-09T08:21:47.903Z"
   },
   {
    "duration": 83,
    "start_time": "2023-10-09T08:21:48.009Z"
   },
   {
    "duration": 351,
    "start_time": "2023-10-09T08:21:48.094Z"
   },
   {
    "duration": 11864,
    "start_time": "2023-10-09T08:21:48.447Z"
   },
   {
    "duration": 203,
    "start_time": "2023-10-09T08:22:00.323Z"
   },
   {
    "duration": 668,
    "start_time": "2023-10-09T08:22:00.529Z"
   },
   {
    "duration": 32,
    "start_time": "2023-10-09T08:22:01.198Z"
   },
   {
    "duration": 0,
    "start_time": "2023-10-09T08:22:01.233Z"
   },
   {
    "duration": 0,
    "start_time": "2023-10-09T08:22:01.235Z"
   },
   {
    "duration": 0,
    "start_time": "2023-10-09T08:22:01.236Z"
   },
   {
    "duration": 0,
    "start_time": "2023-10-09T08:22:01.238Z"
   },
   {
    "duration": 0,
    "start_time": "2023-10-09T08:22:01.239Z"
   },
   {
    "duration": 0,
    "start_time": "2023-10-09T08:22:01.241Z"
   },
   {
    "duration": 0,
    "start_time": "2023-10-09T08:22:01.242Z"
   },
   {
    "duration": 0,
    "start_time": "2023-10-09T08:22:01.243Z"
   },
   {
    "duration": 0,
    "start_time": "2023-10-09T08:22:01.245Z"
   },
   {
    "duration": 0,
    "start_time": "2023-10-09T08:22:01.246Z"
   },
   {
    "duration": 0,
    "start_time": "2023-10-09T08:22:01.247Z"
   },
   {
    "duration": 0,
    "start_time": "2023-10-09T08:22:01.249Z"
   },
   {
    "duration": 0,
    "start_time": "2023-10-09T08:22:01.250Z"
   },
   {
    "duration": 0,
    "start_time": "2023-10-09T08:22:01.251Z"
   },
   {
    "duration": 0,
    "start_time": "2023-10-09T08:22:01.253Z"
   },
   {
    "duration": 0,
    "start_time": "2023-10-09T08:22:01.254Z"
   },
   {
    "duration": 0,
    "start_time": "2023-10-09T08:22:01.255Z"
   },
   {
    "duration": 0,
    "start_time": "2023-10-09T08:22:01.257Z"
   },
   {
    "duration": 0,
    "start_time": "2023-10-09T08:22:01.258Z"
   },
   {
    "duration": 0,
    "start_time": "2023-10-09T08:22:01.259Z"
   },
   {
    "duration": 13,
    "start_time": "2023-10-09T08:22:42.083Z"
   },
   {
    "duration": 13,
    "start_time": "2023-10-09T08:22:42.643Z"
   },
   {
    "duration": 13,
    "start_time": "2023-10-09T08:22:42.728Z"
   },
   {
    "duration": 35,
    "start_time": "2023-10-09T08:22:42.826Z"
   },
   {
    "duration": 13,
    "start_time": "2023-10-09T08:22:42.909Z"
   },
   {
    "duration": 13,
    "start_time": "2023-10-09T08:22:42.992Z"
   },
   {
    "duration": 31,
    "start_time": "2023-10-09T08:22:43.053Z"
   },
   {
    "duration": 167,
    "start_time": "2023-10-09T08:22:43.136Z"
   },
   {
    "duration": 0,
    "start_time": "2023-10-09T08:22:43.305Z"
   },
   {
    "duration": 6,
    "start_time": "2023-10-09T08:22:43.710Z"
   },
   {
    "duration": 56,
    "start_time": "2023-10-09T08:22:44.240Z"
   },
   {
    "duration": 8,
    "start_time": "2023-10-09T08:22:44.362Z"
   },
   {
    "duration": 24,
    "start_time": "2023-10-09T08:22:44.512Z"
   },
   {
    "duration": 0,
    "start_time": "2023-10-09T08:22:44.538Z"
   },
   {
    "duration": 13,
    "start_time": "2023-10-09T08:22:44.546Z"
   },
   {
    "duration": 10,
    "start_time": "2023-10-09T08:22:44.641Z"
   },
   {
    "duration": 18,
    "start_time": "2023-10-09T08:22:44.716Z"
   },
   {
    "duration": 17,
    "start_time": "2023-10-09T08:22:44.793Z"
   },
   {
    "duration": 3,
    "start_time": "2023-10-09T08:22:44.832Z"
   },
   {
    "duration": 13,
    "start_time": "2023-10-09T08:22:44.867Z"
   },
   {
    "duration": 1777,
    "start_time": "2023-10-09T10:13:20.781Z"
   },
   {
    "duration": 105,
    "start_time": "2023-10-09T10:13:24.398Z"
   },
   {
    "duration": 19,
    "start_time": "2023-10-09T10:13:24.719Z"
   },
   {
    "duration": 17,
    "start_time": "2023-10-09T10:13:24.974Z"
   },
   {
    "duration": 43,
    "start_time": "2023-10-09T10:13:25.530Z"
   },
   {
    "duration": 15,
    "start_time": "2023-10-09T10:13:26.127Z"
   },
   {
    "duration": 8,
    "start_time": "2023-10-09T10:13:26.947Z"
   },
   {
    "duration": 11,
    "start_time": "2023-10-09T10:13:27.270Z"
   },
   {
    "duration": 6,
    "start_time": "2023-10-09T10:13:27.930Z"
   },
   {
    "duration": 5,
    "start_time": "2023-10-09T10:13:28.840Z"
   },
   {
    "duration": 3,
    "start_time": "2023-10-09T10:13:29.569Z"
   },
   {
    "duration": 4,
    "start_time": "2023-10-09T10:13:29.879Z"
   },
   {
    "duration": 17,
    "start_time": "2023-10-09T10:13:30.096Z"
   },
   {
    "duration": 128,
    "start_time": "2023-10-09T10:13:30.748Z"
   },
   {
    "duration": 11,
    "start_time": "2023-10-09T10:13:43.379Z"
   },
   {
    "duration": 11,
    "start_time": "2023-10-09T10:13:45.530Z"
   },
   {
    "duration": 25,
    "start_time": "2023-10-09T10:13:46.027Z"
   },
   {
    "duration": 3,
    "start_time": "2023-10-09T10:13:46.199Z"
   },
   {
    "duration": 6,
    "start_time": "2023-10-09T10:13:46.939Z"
   },
   {
    "duration": 8,
    "start_time": "2023-10-09T10:13:47.348Z"
   },
   {
    "duration": 7,
    "start_time": "2023-10-09T10:13:47.751Z"
   },
   {
    "duration": 4,
    "start_time": "2023-10-09T10:13:48.159Z"
   },
   {
    "duration": 4,
    "start_time": "2023-10-09T10:13:48.373Z"
   },
   {
    "duration": 5,
    "start_time": "2023-10-09T10:13:48.571Z"
   },
   {
    "duration": 3,
    "start_time": "2023-10-09T10:13:49.671Z"
   },
   {
    "duration": 10,
    "start_time": "2023-10-09T10:13:49.883Z"
   },
   {
    "duration": 26,
    "start_time": "2023-10-09T10:13:50.311Z"
   },
   {
    "duration": 11,
    "start_time": "2023-10-09T10:13:50.520Z"
   },
   {
    "duration": 11,
    "start_time": "2023-10-09T10:13:50.741Z"
   },
   {
    "duration": 345,
    "start_time": "2023-10-09T10:13:51.803Z"
   },
   {
    "duration": 13334,
    "start_time": "2023-10-09T10:13:52.564Z"
   },
   {
    "duration": 757,
    "start_time": "2023-10-09T10:14:05.900Z"
   },
   {
    "duration": 588,
    "start_time": "2023-10-09T10:15:19.850Z"
   },
   {
    "duration": 12,
    "start_time": "2023-10-09T10:15:28.929Z"
   },
   {
    "duration": 49,
    "start_time": "2023-10-09T10:15:36.621Z"
   },
   {
    "duration": 170,
    "start_time": "2023-10-09T10:15:38.099Z"
   },
   {
    "duration": 214,
    "start_time": "2023-10-09T10:15:39.141Z"
   },
   {
    "duration": 14,
    "start_time": "2023-10-09T10:15:40.040Z"
   },
   {
    "duration": 26,
    "start_time": "2023-10-09T10:15:41.172Z"
   },
   {
    "duration": 167,
    "start_time": "2023-10-09T10:15:41.729Z"
   },
   {
    "duration": 45,
    "start_time": "2023-10-09T10:15:42.219Z"
   },
   {
    "duration": 454,
    "start_time": "2023-10-09T10:15:43.010Z"
   },
   {
    "duration": 472,
    "start_time": "2023-10-09T10:15:43.466Z"
   },
   {
    "duration": 16,
    "start_time": "2023-10-09T10:15:43.939Z"
   },
   {
    "duration": 900,
    "start_time": "2023-10-09T10:15:43.960Z"
   },
   {
    "duration": 96,
    "start_time": "2023-10-09T10:15:44.863Z"
   },
   {
    "duration": 16,
    "start_time": "2023-10-09T10:15:44.961Z"
   },
   {
    "duration": 188,
    "start_time": "2023-10-09T10:15:45.057Z"
   },
   {
    "duration": 15,
    "start_time": "2023-10-09T10:15:45.261Z"
   },
   {
    "duration": 0,
    "start_time": "2023-10-09T10:15:45.278Z"
   },
   {
    "duration": 0,
    "start_time": "2023-10-09T10:15:45.280Z"
   },
   {
    "duration": 0,
    "start_time": "2023-10-09T10:15:45.281Z"
   },
   {
    "duration": 0,
    "start_time": "2023-10-09T10:15:45.283Z"
   },
   {
    "duration": 0,
    "start_time": "2023-10-09T10:15:45.284Z"
   },
   {
    "duration": 19353,
    "start_time": "2023-10-09T10:17:04.496Z"
   },
   {
    "duration": 819,
    "start_time": "2023-10-09T10:17:23.851Z"
   },
   {
    "duration": 12180,
    "start_time": "2023-10-09T10:17:31.171Z"
   },
   {
    "duration": 4586,
    "start_time": "2023-10-09T10:19:36.198Z"
   },
   {
    "duration": 7120,
    "start_time": "2023-10-09T10:20:03.463Z"
   },
   {
    "duration": 56,
    "start_time": "2023-10-09T10:20:46.501Z"
   },
   {
    "duration": 41898,
    "start_time": "2023-10-09T10:23:11.152Z"
   },
   {
    "duration": 297,
    "start_time": "2023-10-09T10:23:53.052Z"
   },
   {
    "duration": 703,
    "start_time": "2023-10-09T10:23:53.352Z"
   },
   {
    "duration": 12,
    "start_time": "2023-10-09T10:23:54.057Z"
   },
   {
    "duration": 248,
    "start_time": "2023-10-09T10:23:54.070Z"
   },
   {
    "duration": 167,
    "start_time": "2023-10-09T10:23:54.319Z"
   },
   {
    "duration": 166,
    "start_time": "2023-10-09T10:23:54.488Z"
   },
   {
    "duration": 13,
    "start_time": "2023-10-09T10:23:54.746Z"
   },
   {
    "duration": 111,
    "start_time": "2023-10-09T10:23:54.761Z"
   },
   {
    "duration": 102,
    "start_time": "2023-10-09T10:23:54.875Z"
   },
   {
    "duration": 180,
    "start_time": "2023-10-09T10:23:54.979Z"
   },
   {
    "duration": 714,
    "start_time": "2023-10-09T10:23:55.162Z"
   },
   {
    "duration": 513,
    "start_time": "2023-10-09T10:23:55.878Z"
   },
   {
    "duration": 5,
    "start_time": "2023-10-09T10:23:56.393Z"
   },
   {
    "duration": 849,
    "start_time": "2023-10-09T10:23:56.399Z"
   },
   {
    "duration": 96,
    "start_time": "2023-10-09T10:23:57.251Z"
   },
   {
    "duration": 99,
    "start_time": "2023-10-09T10:23:57.352Z"
   },
   {
    "duration": 187,
    "start_time": "2023-10-09T10:23:57.453Z"
   },
   {
    "duration": 30,
    "start_time": "2023-10-09T10:23:57.641Z"
   },
   {
    "duration": 0,
    "start_time": "2023-10-09T10:23:57.673Z"
   },
   {
    "duration": 0,
    "start_time": "2023-10-09T10:23:57.674Z"
   },
   {
    "duration": 0,
    "start_time": "2023-10-09T10:23:57.676Z"
   },
   {
    "duration": 14,
    "start_time": "2023-10-09T10:28:20.849Z"
   },
   {
    "duration": 15,
    "start_time": "2023-10-09T10:29:25.937Z"
   },
   {
    "duration": 6,
    "start_time": "2023-10-09T10:29:38.048Z"
   },
   {
    "duration": 879,
    "start_time": "2023-10-09T10:29:41.281Z"
   },
   {
    "duration": 30,
    "start_time": "2023-10-09T10:30:55.566Z"
   },
   {
    "duration": 6,
    "start_time": "2023-10-09T10:33:41.129Z"
   },
   {
    "duration": 694,
    "start_time": "2023-10-09T10:34:43.143Z"
   },
   {
    "duration": 14,
    "start_time": "2023-10-09T10:45:23.319Z"
   },
   {
    "duration": 8,
    "start_time": "2023-10-09T10:45:33.420Z"
   },
   {
    "duration": 11,
    "start_time": "2023-10-09T10:45:34.919Z"
   },
   {
    "duration": 11,
    "start_time": "2023-10-09T10:46:09.049Z"
   },
   {
    "duration": 13,
    "start_time": "2023-10-09T10:46:09.819Z"
   },
   {
    "duration": 179,
    "start_time": "2023-10-09T10:46:10.130Z"
   },
   {
    "duration": 29,
    "start_time": "2023-10-09T10:46:10.444Z"
   },
   {
    "duration": 8,
    "start_time": "2023-10-09T10:46:11.449Z"
   },
   {
    "duration": 10,
    "start_time": "2023-10-09T10:46:12.224Z"
   },
   {
    "duration": 17,
    "start_time": "2023-10-09T10:46:13.401Z"
   },
   {
    "duration": 10,
    "start_time": "2023-10-09T10:46:48.180Z"
   },
   {
    "duration": 8,
    "start_time": "2023-10-09T10:51:28.074Z"
   },
   {
    "duration": 13,
    "start_time": "2023-10-09T10:51:29.869Z"
   },
   {
    "duration": 19,
    "start_time": "2023-10-09T10:51:32.851Z"
   },
   {
    "duration": 8574,
    "start_time": "2023-10-09T10:53:57.460Z"
   },
   {
    "duration": 70,
    "start_time": "2023-10-10T05:55:48.204Z"
   },
   {
    "duration": 2231,
    "start_time": "2023-10-10T05:56:06.853Z"
   },
   {
    "duration": 103,
    "start_time": "2023-10-10T05:56:09.088Z"
   },
   {
    "duration": 23,
    "start_time": "2023-10-10T05:56:09.193Z"
   },
   {
    "duration": 15,
    "start_time": "2023-10-10T05:56:09.218Z"
   },
   {
    "duration": 73,
    "start_time": "2023-10-10T05:56:09.234Z"
   },
   {
    "duration": 12,
    "start_time": "2023-10-10T05:56:09.309Z"
   },
   {
    "duration": 12,
    "start_time": "2023-10-10T05:56:09.322Z"
   },
   {
    "duration": 50,
    "start_time": "2023-10-10T05:56:09.336Z"
   },
   {
    "duration": 23,
    "start_time": "2023-10-10T05:56:09.389Z"
   },
   {
    "duration": 37,
    "start_time": "2023-10-10T05:56:09.415Z"
   },
   {
    "duration": 40,
    "start_time": "2023-10-10T05:56:09.455Z"
   },
   {
    "duration": 35,
    "start_time": "2023-10-10T05:56:09.497Z"
   },
   {
    "duration": 53,
    "start_time": "2023-10-10T05:56:09.534Z"
   },
   {
    "duration": 42,
    "start_time": "2023-10-10T05:56:09.588Z"
   },
   {
    "duration": 49,
    "start_time": "2023-10-10T05:56:09.632Z"
   },
   {
    "duration": 9,
    "start_time": "2023-10-10T05:56:09.683Z"
   },
   {
    "duration": 33,
    "start_time": "2023-10-10T05:56:09.693Z"
   },
   {
    "duration": 27,
    "start_time": "2023-10-10T05:56:09.728Z"
   },
   {
    "duration": 46,
    "start_time": "2023-10-10T05:56:09.756Z"
   },
   {
    "duration": 33,
    "start_time": "2023-10-10T05:56:09.803Z"
   },
   {
    "duration": 27,
    "start_time": "2023-10-10T05:56:09.838Z"
   },
   {
    "duration": 41,
    "start_time": "2023-10-10T05:56:09.867Z"
   },
   {
    "duration": 32,
    "start_time": "2023-10-10T05:56:09.910Z"
   },
   {
    "duration": 31,
    "start_time": "2023-10-10T05:56:09.945Z"
   },
   {
    "duration": 32,
    "start_time": "2023-10-10T05:56:09.979Z"
   },
   {
    "duration": 40,
    "start_time": "2023-10-10T05:56:10.013Z"
   },
   {
    "duration": 63,
    "start_time": "2023-10-10T05:56:10.055Z"
   },
   {
    "duration": 473,
    "start_time": "2023-10-10T05:56:10.123Z"
   },
   {
    "duration": 16963,
    "start_time": "2023-10-10T05:56:10.598Z"
   },
   {
    "duration": 902,
    "start_time": "2023-10-10T05:56:27.563Z"
   },
   {
    "duration": 718,
    "start_time": "2023-10-10T05:56:28.467Z"
   },
   {
    "duration": 18,
    "start_time": "2023-10-10T05:56:29.187Z"
   },
   {
    "duration": 105,
    "start_time": "2023-10-10T05:56:29.206Z"
   },
   {
    "duration": 186,
    "start_time": "2023-10-10T05:56:29.313Z"
   },
   {
    "duration": 168,
    "start_time": "2023-10-10T05:56:29.501Z"
   },
   {
    "duration": 92,
    "start_time": "2023-10-10T05:56:29.672Z"
   },
   {
    "duration": 106,
    "start_time": "2023-10-10T05:56:29.769Z"
   },
   {
    "duration": 108,
    "start_time": "2023-10-10T05:56:29.877Z"
   },
   {
    "duration": 159,
    "start_time": "2023-10-10T05:56:29.989Z"
   },
   {
    "duration": 651,
    "start_time": "2023-10-10T05:56:30.150Z"
   },
   {
    "duration": 671,
    "start_time": "2023-10-10T05:56:30.803Z"
   },
   {
    "duration": 5,
    "start_time": "2023-10-10T05:56:31.476Z"
   },
   {
    "duration": 1073,
    "start_time": "2023-10-10T05:56:31.483Z"
   },
   {
    "duration": 93,
    "start_time": "2023-10-10T05:56:32.562Z"
   },
   {
    "duration": 42,
    "start_time": "2023-10-10T05:56:32.659Z"
   },
   {
    "duration": 255,
    "start_time": "2023-10-10T05:56:32.703Z"
   },
   {
    "duration": 34,
    "start_time": "2023-10-10T05:56:32.960Z"
   },
   {
    "duration": 67,
    "start_time": "2023-10-10T05:56:32.996Z"
   },
   {
    "duration": 162,
    "start_time": "2023-10-10T05:56:33.066Z"
   },
   {
    "duration": 95,
    "start_time": "2023-10-10T05:56:33.230Z"
   },
   {
    "duration": 23604,
    "start_time": "2023-10-10T05:56:33.327Z"
   },
   {
    "duration": 15765,
    "start_time": "2023-10-10T05:56:56.933Z"
   },
   {
    "duration": 5743,
    "start_time": "2023-10-10T05:57:12.701Z"
   },
   {
    "duration": 8283,
    "start_time": "2023-10-10T05:57:18.447Z"
   },
   {
    "duration": 63,
    "start_time": "2023-10-10T05:57:26.732Z"
   },
   {
    "duration": 690,
    "start_time": "2023-10-10T05:57:26.797Z"
   },
   {
    "duration": 0,
    "start_time": "2023-10-10T05:57:27.489Z"
   },
   {
    "duration": 865,
    "start_time": "2023-10-10T05:58:06.660Z"
   },
   {
    "duration": 765,
    "start_time": "2023-10-10T05:58:23.169Z"
   },
   {
    "duration": 8283,
    "start_time": "2023-10-10T05:58:51.408Z"
   }
  ],
  "kernelspec": {
   "display_name": "Python 3 (ipykernel)",
   "language": "python",
   "name": "python3"
  },
  "language_info": {
   "codemirror_mode": {
    "name": "ipython",
    "version": 3
   },
   "file_extension": ".py",
   "mimetype": "text/x-python",
   "name": "python",
   "nbconvert_exporter": "python",
   "pygments_lexer": "ipython3",
   "version": "3.9.5"
  },
  "toc": {
   "base_numbering": 1,
   "nav_menu": {},
   "number_sections": true,
   "sideBar": true,
   "skip_h1_title": true,
   "title_cell": "Содержание",
   "title_sidebar": "Contents",
   "toc_cell": true,
   "toc_position": {},
   "toc_section_display": true,
   "toc_window_display": true
  }
 },
 "nbformat": 4,
 "nbformat_minor": 2
}
